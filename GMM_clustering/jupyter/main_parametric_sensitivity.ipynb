{
 "cells": [
  {
   "cell_type": "markdown",
   "metadata": {},
   "source": [
    "This notebook demonstrates the use of our linear approximation to evalute sensitivity with respect to the Dirichlet process $\\alpha$ parameter, in a GMM mixture model of the iris data set."
   ]
  },
  {
   "cell_type": "code",
   "execution_count": 1,
   "metadata": {
    "scrolled": true
   },
   "outputs": [
    {
     "name": "stderr",
     "output_type": "stream",
     "text": [
      "/home/rliu/anaconda3/envs/bnp_sensitivity_public/lib/python3.9/site-packages/jax/lib/xla_bridge.py:130: UserWarning: No GPU/TPU found, falling back to CPU.\n",
      "  warnings.warn('No GPU/TPU found, falling back to CPU.')\n"
     ]
    }
   ],
   "source": [
    "import jax\n",
    "from jax import numpy as np\n",
    "from jax import random\n",
    "\n",
    "import numpy as onp\n",
    "\n",
    "from numpy.polynomial.hermite import hermgauss\n",
    "\n",
    "import paragami\n",
    "\n",
    "# GMM libraries\n",
    "import bnpgmm.gmm_clustering_lib as gmm_lib\n",
    "import bnpgmm.utils_lib as utils_lib\n",
    "import bnpgmm.gmm_optimization_lib as gmm_optim_lib\n",
    "from bnpgmm import gmm_posterior_quantities_lib\n",
    "\n",
    "# BNP libraries\n",
    "from bnpmodeling.sensitivity_lib import HyperparameterSensitivityLinearApproximation\n",
    "from bnpmodeling import result_loading_utils\n",
    "from bnpmodeling.bnp_optimization_lib import optimize_kl\n",
    "\n",
    "# plotting stuff\n",
    "import matplotlib.pyplot as plt\n",
    "%matplotlib inline\n",
    "import matplotlib.cm as cm\n",
    "\n",
    "from sklearn.decomposition import PCA\n",
    "\n",
    "# some other utilities\n",
    "from copy import deepcopy\n",
    "import time"
   ]
  },
  {
   "cell_type": "code",
   "execution_count": null,
   "metadata": {},
   "outputs": [],
   "source": []
  },
  {
   "cell_type": "markdown",
   "metadata": {},
   "source": [
    "# Load data"
   ]
  },
  {
   "cell_type": "markdown",
   "metadata": {},
   "source": [
    "We load and plot the iris dataset"
   ]
  },
  {
   "cell_type": "code",
   "execution_count": 2,
   "metadata": {},
   "outputs": [],
   "source": [
    "# load iris data\n",
    "dataset_name = 'iris'\n",
    "iris_obs, iris_species = utils_lib.load_iris_data()\n",
    "dim = iris_obs.shape[1]\n",
    "n_obs = len(iris_species)\n",
    "\n",
    "iris_obs = np.array(iris_obs)"
   ]
  },
  {
   "cell_type": "markdown",
   "metadata": {},
   "source": [
    "The iris data consists of 150 sampled irises; each iris consists of four measurements, \n",
    "\n",
    "1. sepal length in cm\n",
    "2. sepal width in cm\n",
    "3. petal length in cm\n",
    "4. petal width in cm"
   ]
  },
  {
   "cell_type": "code",
   "execution_count": 3,
   "metadata": {},
   "outputs": [
    {
     "data": {
      "text/plain": [
       "(150, 4)"
      ]
     },
     "execution_count": 3,
     "metadata": {},
     "output_type": "execute_result"
    }
   ],
   "source": [
    "iris_obs.shape"
   ]
  },
  {
   "cell_type": "code",
   "execution_count": null,
   "metadata": {},
   "outputs": [],
   "source": []
  },
  {
   "cell_type": "code",
   "execution_count": 4,
   "metadata": {},
   "outputs": [
    {
     "data": {
      "text/plain": [
       "Text(0, 0.5, 'PC2')"
      ]
     },
     "execution_count": 4,
     "metadata": {},
     "output_type": "execute_result"
    },
    {
     "data": {
      "image/png": "[encoded data removed]",
      "text/plain": [
       "<Figure size 432x288 with 1 Axes>"
      ]
     },
     "metadata": {
      "needs_background": "light"
     },
     "output_type": "display_data"
    }
   ],
   "source": [
    "# plot the iris data in PC space\n",
    "pca_fit, pc_iris_obs, colors1, colors2 = utils_lib.get_plotting_data(iris_obs)\n",
    "\n",
    "fig1 = plt.figure(1)\n",
    "fig = fig1.add_subplot(111)\n",
    "utils_lib.plot_clusters(pc_iris_obs[:, 0], pc_iris_obs[:, 1], iris_species, colors1, fig)\n",
    "fig.set_xlabel('PC1')\n",
    "fig.set_ylabel('PC2')\n"
   ]
  },
  {
   "cell_type": "code",
   "execution_count": null,
   "metadata": {},
   "outputs": [],
   "source": []
  },
  {
   "cell_type": "markdown",
   "metadata": {},
   "source": [
    "# Set up model"
   ]
  },
  {
   "cell_type": "markdown",
   "metadata": {},
   "source": [
    "The observations are vectors $x_n \\in \\mathbb{R}^4$, and we model each\n",
    "component with a multivariate Gaussian. \n",
    "\n",
    "Let the $k$-th component have mean $\\mu_k$ and covariance $\\Lambda_k^{-1}$, so\n",
    "\n",
    "\\begin{align*}\n",
    "%\n",
    "P(x_n \\vert  \\mu_k, \\Lambda_k^{-1}, z_n = k) ={}& \\text{Normal}(x_n \\vert \\mu_k, \\Lambda_k^{-1}) \\\\\n",
    "% \n",
    "\\end{align*}\n",
    "\n",
    "\n",
    "The prior on $(\\mu_k, \\Lambda_k)$ are normal-Wishart, independently for all $k$. \n",
    "\n",
    "The cluster assignements $z_n$ are drawn from a multinomial with probabilities $\\pi$, with $\\pi$ coming from a $\\text{GEM}(\\alpha)$ distribution. We will evaluate sensitivity to $\\alpha$ in this notebook. "
   ]
  },
  {
   "cell_type": "markdown",
   "metadata": {},
   "source": [
    "### Prior parameters"
   ]
  },
  {
   "cell_type": "code",
   "execution_count": 5,
   "metadata": {},
   "outputs": [
    {
     "data": {
      "text/plain": [
       "{'dp_prior_alpha': 2.0,\n",
       " 'prior_centroid_mean': DeviceArray([0.], dtype=float64),\n",
       " 'prior_lambda': DeviceArray([1.], dtype=float64),\n",
       " 'prior_wishart_df': DeviceArray([10.], dtype=float64),\n",
       " 'prior_wishart_rate': DeviceArray([[1., 0., 0., 0.],\n",
       "              [0., 1., 0., 0.],\n",
       "              [0., 0., 1., 0.],\n",
       "              [0., 0., 0., 1.]], dtype=float64)}"
      ]
     },
     "execution_count": 5,
     "metadata": {},
     "output_type": "execute_result"
    }
   ],
   "source": [
    "# Get priors\n",
    "prior_params_dict, prior_params_paragami = gmm_lib.get_default_prior_params(dim)\n",
    "\n",
    "# set initial alpha\n",
    "alpha0 = 2.0\n",
    "prior_params_dict['dp_prior_alpha'] = alpha0\n",
    "\n",
    "# print prior parameters\n",
    "prior_params_dict"
   ]
  },
  {
   "cell_type": "code",
   "execution_count": null,
   "metadata": {},
   "outputs": [],
   "source": []
  },
  {
   "cell_type": "markdown",
   "metadata": {},
   "source": [
    "### Variational parameters"
   ]
  },
  {
   "cell_type": "code",
   "execution_count": 6,
   "metadata": {},
   "outputs": [],
   "source": [
    "# number of components in truncated variational distribution \n",
    "k_approx = 15"
   ]
  },
  {
   "cell_type": "code",
   "execution_count": 7,
   "metadata": {},
   "outputs": [],
   "source": [
    "# Gauss-Hermite points for integrating logitnormal stick-breaking prior\n",
    "gh_deg = 8\n",
    "gh_loc, gh_weights = hermgauss(gh_deg)\n",
    "\n",
    "# convert to jax arrays\n",
    "gh_loc, gh_weights = np.array(gh_loc), np.array(gh_weights)"
   ]
  },
  {
   "cell_type": "code",
   "execution_count": 8,
   "metadata": {},
   "outputs": [],
   "source": [
    "# get vb parameters\n",
    "vb_params_dict, vb_params_paragami = gmm_lib.get_vb_params_paragami_object(dim, k_approx)"
   ]
  },
  {
   "cell_type": "markdown",
   "metadata": {},
   "source": [
    "In the function above, we return a dictionary of variational parameters, as well as a corresponding `paragami` object. The latter contains methods to constrain (`vb_params_paragami.fold`) and unconstrain (`vb_params_paragami.flatten`) the parameter dictionary. We will use the unconstrained parameterizaiton so we can run unconstrained optimization below. \n",
    "\n",
    "See https://paragami.readthedocs.io/en/latest/ for more details about paragami. "
   ]
  },
  {
   "cell_type": "code",
   "execution_count": null,
   "metadata": {},
   "outputs": [],
   "source": []
  },
  {
   "cell_type": "markdown",
   "metadata": {},
   "source": [
    "Below, we print the dictionary of variational parameters. In this model, the conditionally conjugate variational distribution on $(\\mu_k, \\Lambda_k)$ is\n",
    "normal-Wishart, and the conditionally conjugate variational distribution on $z$ are multinomial.\n",
    "\n",
    "The variational distribution on the stick-breaking proportions are logit-normal. "
   ]
  },
  {
   "cell_type": "code",
   "execution_count": 9,
   "metadata": {},
   "outputs": [
    {
     "name": "stdout",
     "output_type": "stream",
     "text": [
      "OrderedDict:\n",
      "\t[centroid_params] = OrderedDict:\n",
      "\t[means] = NumericArrayPattern (15, 4) (lb=-inf, ub=inf)\n",
      "\t[lambdas] = NumericArrayPattern (15,) (lb=0.0, ub=inf)\n",
      "\t[wishart_scale] = PatternArray (15,) of PDMatrix 4x4 (diag_lb = 0.0)\n",
      "\t[wishart_df] = NumericArrayPattern (15,) (lb=3, ub=inf)\n",
      "\t[stick_params] = OrderedDict:\n",
      "\t[stick_means] = NumericArrayPattern (14,) (lb=-inf, ub=inf)\n",
      "\t[stick_infos] = NumericArrayPattern (14,) (lb=0.0001, ub=inf)\n"
     ]
    }
   ],
   "source": [
    "print(vb_params_paragami)"
   ]
  },
  {
   "cell_type": "markdown",
   "metadata": {},
   "source": [
    "Notice that in our parameter dictionary above, we have a dictionary (`centroid_params`) for the normal-Wishart variational parameters, and a dictionary for the logit-normal stick-proportion parameters (`stick_params`). There are no parameters for the multinomial parameters on the cluster assignments: these are set implicitly in evaluating the KL objective. "
   ]
  },
  {
   "cell_type": "code",
   "execution_count": 10,
   "metadata": {},
   "outputs": [
    {
     "data": {
      "text/plain": [
       "DeviceArray(4495.75192152, dtype=float64)"
      ]
     },
     "execution_count": 10,
     "metadata": {},
     "output_type": "execute_result"
    }
   ],
   "source": [
    "# the KL objective that we optimize\n",
    "gmm_lib.get_kl(iris_obs, vb_params_dict, prior_params_dict, gh_loc, gh_weights)"
   ]
  },
  {
   "cell_type": "code",
   "execution_count": null,
   "metadata": {},
   "outputs": [],
   "source": []
  },
  {
   "cell_type": "code",
   "execution_count": null,
   "metadata": {},
   "outputs": [],
   "source": []
  },
  {
   "cell_type": "markdown",
   "metadata": {},
   "source": [
    "# Optimize KL objective"
   ]
  },
  {
   "cell_type": "markdown",
   "metadata": {},
   "source": [
    "### Initialize with K-means"
   ]
  },
  {
   "cell_type": "code",
   "execution_count": 11,
   "metadata": {},
   "outputs": [
    {
     "name": "stdout",
     "output_type": "stream",
     "text": [
      "elapsed (secs):  2.0918712615966797\n"
     ]
    }
   ],
   "source": [
    "# run a kmeans init\n",
    "t0 = time.time()\n",
    "n_kmeans_init = 10\n",
    "init_vb_free_params, init_vb_params_dict, init_ez = \\\n",
    "    gmm_optim_lib.cluster_and_get_k_means_inits(iris_obs,\n",
    "                                            vb_params_paragami, \n",
    "                                            n_kmeans_init = n_kmeans_init, \n",
    "                                            seed = 54645)\n",
    "k_means_time = time.time() - t0\n",
    "print('elapsed (secs): ', k_means_time)"
   ]
  },
  {
   "cell_type": "code",
   "execution_count": 12,
   "metadata": {},
   "outputs": [
    {
     "name": "stdout",
     "output_type": "stream",
     "text": [
      "initial kl: \n",
      "1268.5666580463737\n"
     ]
    }
   ],
   "source": [
    "print('initial kl: ')\n",
    "print(gmm_lib.get_kl(iris_obs, init_vb_params_dict, prior_params_dict, gh_loc, gh_weights))"
   ]
  },
  {
   "cell_type": "code",
   "execution_count": null,
   "metadata": {},
   "outputs": [],
   "source": []
  },
  {
   "cell_type": "code",
   "execution_count": null,
   "metadata": {},
   "outputs": [],
   "source": []
  },
  {
   "cell_type": "markdown",
   "metadata": {},
   "source": [
    "### Optimize the KL with Newton's method "
   ]
  },
  {
   "cell_type": "code",
   "execution_count": 13,
   "metadata": {},
   "outputs": [
    {
     "name": "stdout",
     "output_type": "stream",
     "text": [
      "compiling objective and derivatives ... \n",
      "done. Compile time: 18.528sec\n",
      "Running L-BFGS-B ...\n",
      "L-BFGS-B time: 0.291sec\n",
      "BFGS out:  CONVERGENCE: REL_REDUCTION_OF_F_<=_FACTR*EPSMCH\n",
      "Running trust-ncg ... \n",
      "Newton time: 0.131sec\n",
      "Newton out:  Optimization terminated successfully.\n",
      "done. \n"
     ]
    }
   ],
   "source": [
    "vb_opt_dict, vb_opt, e_z_opt, out, init_fit_time = \\\n",
    "    gmm_optim_lib.optimize_gmm(iris_obs,\n",
    "                               init_vb_params_dict,\n",
    "                               vb_params_paragami,\n",
    "                               prior_params_dict, \n",
    "                               gh_loc, gh_weights, \n",
    "                               run_newton = True)"
   ]
  },
  {
   "cell_type": "code",
   "execution_count": 14,
   "metadata": {},
   "outputs": [],
   "source": [
    "vb_opt = vb_params_paragami.flatten(vb_opt_dict, free = True)"
   ]
  },
  {
   "cell_type": "code",
   "execution_count": 15,
   "metadata": {},
   "outputs": [],
   "source": [
    "paragami.save_folded('./initial_fit', \n",
    "                     vb_opt_dict, \n",
    "                     vb_params_paragami, \n",
    "                     final_kl = out.fun, \n",
    "                     alpha0 = alpha0)"
   ]
  },
  {
   "cell_type": "code",
   "execution_count": null,
   "metadata": {},
   "outputs": [],
   "source": []
  },
  {
   "cell_type": "code",
   "execution_count": null,
   "metadata": {},
   "outputs": [],
   "source": []
  },
  {
   "cell_type": "markdown",
   "metadata": {},
   "source": [
    "# Check initial fit"
   ]
  },
  {
   "cell_type": "code",
   "execution_count": 16,
   "metadata": {},
   "outputs": [],
   "source": [
    "def plot_results_from_vb_params_dict(pca_fit, vb_params_dict, e_z, fig): \n",
    "    \n",
    "    means = vb_params_dict['centroid_params']['means']\n",
    "    infos = np.einsum('k, kij -> kij', \n",
    "                      vb_params_dict['centroid_params']['wishart_df'], \n",
    "                      vb_params_dict['centroid_params']['wishart_scale'])\n",
    "    \n",
    "    # we plot in PCA space\n",
    "    bnp_centroids_pc, bnp_cluster_covs_pc = \\\n",
    "        utils_lib.transform_params_to_pc_space(pca_fit, means, np.linalg.inv(infos))\n",
    "    \n",
    "    bnp_clusters = np.argmax(e_z, axis = 1)\n",
    "    \n",
    "    cmap = cm.get_cmap(name='gist_rainbow')\n",
    "    colors1 = [cmap(k * 50) for k in range(30)]\n",
    "    \n",
    "    utils_lib.plot_clusters(pc_iris_obs[:, 0], pc_iris_obs[:, 1], bnp_clusters, \\\n",
    "                  colors1, fig, \\\n",
    "                  centroids = bnp_centroids_pc[np.unique(bnp_clusters), :], \n",
    "                cov = bnp_cluster_covs_pc[np.unique(bnp_clusters), :, :])\n",
    "    \n",
    "    return bnp_centroids_pc, bnp_cluster_covs_pc"
   ]
  },
  {
   "cell_type": "code",
   "execution_count": null,
   "metadata": {},
   "outputs": [],
   "source": []
  },
  {
   "cell_type": "markdown",
   "metadata": {},
   "source": [
    "### Plot centroids"
   ]
  },
  {
   "cell_type": "code",
   "execution_count": 17,
   "metadata": {},
   "outputs": [
    {
     "data": {
      "text/plain": [
       "Text(0, 0.5, 'PC2')"
      ]
     },
     "execution_count": 17,
     "metadata": {},
     "output_type": "execute_result"
    },
    {
     "data": {
      "image/png": "[encoded data removed]",
      "text/plain": [
       "<Figure size 432x288 with 1 Axes>"
      ]
     },
     "metadata": {
      "needs_background": "light"
     },
     "output_type": "display_data"
    }
   ],
   "source": [
    "fig1 = plt.figure(1)\n",
    "fig = fig1.add_subplot(111)\n",
    "\n",
    "bnp_centroids_pc, bnp_cluster_covs_pc = \\\n",
    "    plot_results_from_vb_params_dict(pca_fit, vb_opt_dict, e_z_opt, fig)\n",
    "fig.set_xlabel('PC1', fontsize = 18)\n",
    "fig.set_ylabel('PC2', fontsize = 18)\n"
   ]
  },
  {
   "cell_type": "code",
   "execution_count": null,
   "metadata": {},
   "outputs": [],
   "source": []
  },
  {
   "cell_type": "markdown",
   "metadata": {},
   "source": [
    "### Plot mixture weights"
   ]
  },
  {
   "cell_type": "code",
   "execution_count": 18,
   "metadata": {},
   "outputs": [],
   "source": [
    "def get_e_num_obs_per_cluster(vb_params_dict): \n",
    "    \n",
    "    ez = gmm_posterior_quantities_lib.get_optimal_z_from_vb_dict(iris_obs,\n",
    "                               vb_params_dict,\n",
    "                               gh_loc,\n",
    "                               gh_weights,\n",
    "                               use_bnp_prior = True)\n",
    "    return ez.sum(0)"
   ]
  },
  {
   "cell_type": "code",
   "execution_count": 19,
   "metadata": {},
   "outputs": [],
   "source": [
    "e_num_obs_per_cluster = get_e_num_obs_per_cluster(vb_opt_dict)\n",
    "mixture_weights = gmm_posterior_quantities_lib.get_e_mixture_weights_from_vb_dict(vb_opt_dict, gh_loc, gh_weights)"
   ]
  },
  {
   "cell_type": "code",
   "execution_count": 20,
   "metadata": {},
   "outputs": [
    {
     "data": {
      "image/png": "[encoded data removed]",
      "text/plain": [
       "<Figure size 576x216 with 2 Axes>"
      ]
     },
     "metadata": {
      "needs_background": "light"
     },
     "output_type": "display_data"
    }
   ],
   "source": [
    "fig, axarr = plt.subplots(1, 2, figsize = (8, 3))\n",
    "\n",
    "result_loading_utils._plot_weights(e_num_obs_per_cluster, \n",
    "                                   axarr[0])\n",
    "\n",
    "result_loading_utils._plot_weights(mixture_weights, \n",
    "                                   axarr[1])\n",
    "\n",
    "\n",
    "axarr[0].set_ylabel('e. num. obs.')\n",
    "axarr[1].set_ylabel('mixture weights')\n",
    "    \n",
    "fig.tight_layout()"
   ]
  },
  {
   "cell_type": "code",
   "execution_count": null,
   "metadata": {},
   "outputs": [],
   "source": []
  },
  {
   "cell_type": "markdown",
   "metadata": {},
   "source": [
    "# Parametric sensitivity"
   ]
  },
  {
   "cell_type": "markdown",
   "metadata": {},
   "source": [
    "### Compute derivatives for linear approximation"
   ]
  },
  {
   "cell_type": "markdown",
   "metadata": {},
   "source": [
    "We first need to define our objective as a function of both the (unconstrained) variational parameters and the prior parameter $\\alpha$. "
   ]
  },
  {
   "cell_type": "code",
   "execution_count": 21,
   "metadata": {},
   "outputs": [],
   "source": [
    "# set up objective as function of vb parameter dictionary and prior parameter\n",
    "\n",
    "def objective_fun(vb_params_dict, alpha): \n",
    "    \n",
    "    _prior_params_dict = deepcopy(prior_params_dict)\n",
    "    _prior_params_dict['dp_prior_alpha'] = alpha\n",
    "    \n",
    "    return gmm_lib.get_kl(iris_obs, \n",
    "                          vb_params_dict,\n",
    "                          _prior_params_dict,\n",
    "                          gh_loc, gh_weights).squeeze()\n",
    "\n",
    "# now define the same objective, but as a function of the unconstrained dicionary\n",
    "objective_fun_free = paragami.FlattenFunctionInput(\n",
    "                                original_fun=objective_fun, \n",
    "                                patterns = vb_params_paragami,\n",
    "                                free = True,\n",
    "                                argnums = 0)"
   ]
  },
  {
   "cell_type": "code",
   "execution_count": 22,
   "metadata": {},
   "outputs": [
    {
     "name": "stdout",
     "output_type": "stream",
     "text": [
      "Compiling hessian solver ...\n",
      "Hessian solver compile time: 34.0321sec\n",
      "\n",
      "Compiling cross hessian...\n",
      "Cross-hessian compile time: 0.466207sec\n",
      "\n",
      "LR sensitivity time: 0.0196416sec\n",
      "\n"
     ]
    }
   ],
   "source": [
    "# the linear sensitivity class: computes the cross-hessian and solves the linear system\n",
    "vb_sens = HyperparameterSensitivityLinearApproximation(objective_fun_free,\n",
    "                                                        vb_opt,\n",
    "                                                        alpha0)"
   ]
  },
  {
   "cell_type": "code",
   "execution_count": 23,
   "metadata": {},
   "outputs": [
    {
     "data": {
      "text/plain": [
       "0.019641637802124023"
      ]
     },
     "execution_count": 23,
     "metadata": {},
     "output_type": "execute_result"
    }
   ],
   "source": [
    "vb_sens.lr_time"
   ]
  },
  {
   "cell_type": "code",
   "execution_count": null,
   "metadata": {},
   "outputs": [],
   "source": []
  },
  {
   "cell_type": "markdown",
   "metadata": {},
   "source": [
    "### re-fit for a range of alpha"
   ]
  },
  {
   "cell_type": "code",
   "execution_count": 24,
   "metadata": {},
   "outputs": [],
   "source": [
    "# define the range of alpha\n",
    "alpha_list = np.arange(0, 4.2, step = 0.4)\n",
    "\n",
    "# set the smallest to 0.01, not zero\n",
    "alpha_list = np.clip(alpha_list, a_min  = 0.01)"
   ]
  },
  {
   "cell_type": "code",
   "execution_count": 25,
   "metadata": {},
   "outputs": [
    {
     "data": {
      "text/plain": [
       "DeviceArray([0.01, 0.4 , 0.8 , 1.2 , 1.6 , 2.  , 2.4 , 2.8 , 3.2 , 3.6 ,\n",
       "             4.  ], dtype=float64)"
      ]
     },
     "execution_count": 25,
     "metadata": {},
     "output_type": "execute_result"
    }
   ],
   "source": [
    "alpha_list"
   ]
  },
  {
   "cell_type": "code",
   "execution_count": null,
   "metadata": {},
   "outputs": [],
   "source": []
  },
  {
   "cell_type": "markdown",
   "metadata": {},
   "source": [
    "You may have noticed in the functions above that there is a first compiliation step that is often slow. \n",
    "\n",
    "The functions are fast after the compilation, and it is these post-compilation times that we record in our paper. \n",
    "(we ignore compilation times for both optimization and the linear approximation, so the comparisons are fair). \n",
    "\n",
    "Next, we will repeatedly optimize the KL objective for a range of $\\alpha$. Thus, we will compile what we can first, before looping through our set of perturbed $\\alpha$'s. "
   ]
  },
  {
   "cell_type": "code",
   "execution_count": 26,
   "metadata": {},
   "outputs": [],
   "source": [
    "# define and compile the gradient and the hessian vector product. \n",
    "\n",
    "get_grad = jax.jit(jax.grad(objective_fun_free, argnums = 0))\n",
    "\n",
    "def _get_hvp(x, alpha, v):\n",
    "    return jax.jvp(jax.grad(objective_fun_free, argnums = 0), (x, alpha), (v, 0.))[1]\n",
    "\n",
    "get_hvp = jax.jit(_get_hvp)"
   ]
  },
  {
   "cell_type": "code",
   "execution_count": 27,
   "metadata": {},
   "outputs": [
    {
     "name": "stdout",
     "output_type": "stream",
     "text": [
      "compiling ... \n",
      "done. \n"
     ]
    }
   ],
   "source": [
    "# compile the gradient and hessian\n",
    "print('compiling ... ')\n",
    "_ = get_grad(vb_opt, alpha_list[0]).block_until_ready()\n",
    "_ = get_hvp(vb_opt, alpha_list[0], vb_opt).block_until_ready()\n",
    "print('done. ')"
   ]
  },
  {
   "cell_type": "code",
   "execution_count": null,
   "metadata": {},
   "outputs": [],
   "source": []
  },
  {
   "cell_type": "markdown",
   "metadata": {},
   "source": [
    "### a wrapper for re-optimization"
   ]
  },
  {
   "cell_type": "code",
   "execution_count": 28,
   "metadata": {},
   "outputs": [],
   "source": [
    "def refit_with_alpha(alpha, new_init_dict):\n",
    "    # sets new alpha, returns new vb optimum\n",
    "    \n",
    "    _, vb_opt_pert, _, refit_time = \\\n",
    "        optimize_kl(lambda x : objective_fun_free(x, alpha),\n",
    "                     new_init_dict, \n",
    "                     vb_params_paragami, \n",
    "                     get_grad = lambda x : get_grad(x, alpha),\n",
    "                     get_hvp = lambda x, v: get_hvp(x, alpha, v),\n",
    "                     run_lbfgs = False,\n",
    "                     run_newton = True)                            \n",
    "        \n",
    "    return vb_opt_pert, refit_time"
   ]
  },
  {
   "cell_type": "markdown",
   "metadata": {},
   "source": [
    "### re-optimize"
   ]
  },
  {
   "cell_type": "code",
   "execution_count": 29,
   "metadata": {},
   "outputs": [
    {
     "name": "stdout",
     "output_type": "stream",
     "text": [
      "\n",
      "################\n",
      "re-optimzing with alpha =  0.01\n",
      "################\n",
      "compiling objective and derivatives ... \n",
      "done. Compile time: 1.064sec\n",
      "Running trust-ncg ... \n",
      "Newton time: 1.669sec\n",
      "Newton out:  Optimization terminated successfully.\n",
      "done. \n",
      "\n",
      "################\n",
      "re-optimzing with alpha =  0.4\n",
      "################\n",
      "compiling objective and derivatives ... \n",
      "done. Compile time: 1.089sec\n",
      "Running trust-ncg ... \n",
      "Newton time: 0.329sec\n",
      "Newton out:  Optimization terminated successfully.\n",
      "done. \n",
      "\n",
      "################\n",
      "re-optimzing with alpha =  0.8\n",
      "################\n",
      "compiling objective and derivatives ... \n",
      "done. Compile time: 1.046sec\n",
      "Running trust-ncg ... \n",
      "Newton time: 0.226sec\n",
      "Newton out:  Optimization terminated successfully.\n",
      "done. \n",
      "\n",
      "################\n",
      "re-optimzing with alpha =  1.2000000000000002\n",
      "################\n",
      "compiling objective and derivatives ... \n",
      "done. Compile time: 1.055sec\n",
      "Running trust-ncg ... \n",
      "Newton time: 0.197sec\n",
      "Newton out:  Optimization terminated successfully.\n",
      "done. \n",
      "\n",
      "################\n",
      "re-optimzing with alpha =  1.6\n",
      "################\n",
      "compiling objective and derivatives ... \n",
      "done. Compile time: 1.013sec\n",
      "Running trust-ncg ... \n",
      "Newton time: 0.222sec\n",
      "Newton out:  Optimization terminated successfully.\n",
      "done. \n",
      "\n",
      "################\n",
      "re-optimzing with alpha =  2.0\n",
      "################\n",
      "compiling objective and derivatives ... \n",
      "done. Compile time: 1.058sec\n",
      "Running trust-ncg ... \n",
      "Newton time: 0.002sec\n",
      "Newton out:  Optimization terminated successfully.\n",
      "done. \n",
      "\n",
      "################\n",
      "re-optimzing with alpha =  2.4000000000000004\n",
      "################\n",
      "compiling objective and derivatives ... \n",
      "done. Compile time: 1.031sec\n",
      "Running trust-ncg ... \n",
      "Newton time: 0.162sec\n",
      "Newton out:  Optimization terminated successfully.\n",
      "done. \n",
      "\n",
      "################\n",
      "re-optimzing with alpha =  2.8000000000000003\n",
      "################\n",
      "compiling objective and derivatives ... \n",
      "done. Compile time: 1.238sec\n",
      "Running trust-ncg ... \n",
      "Newton time: 0.197sec\n",
      "Newton out:  Optimization terminated successfully.\n",
      "done. \n",
      "\n",
      "################\n",
      "re-optimzing with alpha =  3.2\n",
      "################\n",
      "compiling objective and derivatives ... \n",
      "done. Compile time: 1.039sec\n",
      "Running trust-ncg ... \n",
      "Newton time: 0.204sec\n",
      "Newton out:  Optimization terminated successfully.\n",
      "done. \n",
      "\n",
      "################\n",
      "re-optimzing with alpha =  3.6\n",
      "################\n",
      "compiling objective and derivatives ... \n",
      "done. Compile time: 1.003sec\n",
      "Running trust-ncg ... \n",
      "Newton time: 0.245sec\n",
      "Newton out:  Optimization terminated successfully.\n",
      "done. \n",
      "\n",
      "################\n",
      "re-optimzing with alpha =  4.0\n",
      "################\n",
      "compiling objective and derivatives ... \n",
      "done. Compile time: 1.017sec\n",
      "Running trust-ncg ... \n",
      "Newton time: 0.194sec\n",
      "Newton out:  Optimization terminated successfully.\n",
      "done. \n"
     ]
    }
   ],
   "source": [
    "refit_list = []\n",
    "refit_time_vec = []\n",
    "\n",
    "new_init_dict = deepcopy(vb_opt_dict)\n",
    "\n",
    "for alpha in alpha_list: \n",
    "    print('\\n################')\n",
    "    print('re-optimzing with alpha = ', alpha)\n",
    "    print('################')\n",
    "    \n",
    "    vb_opt_pert, refit_time = refit_with_alpha(alpha, new_init_dict)\n",
    "    \n",
    "    refit_list.append(vb_opt_pert)\n",
    "    refit_time_vec.append(refit_time)\n",
    "\n",
    "\n",
    "refit_time_vec = onp.array(refit_time_vec)"
   ]
  },
  {
   "cell_type": "code",
   "execution_count": null,
   "metadata": {},
   "outputs": [],
   "source": []
  },
  {
   "cell_type": "code",
   "execution_count": null,
   "metadata": {},
   "outputs": [],
   "source": []
  },
  {
   "cell_type": "markdown",
   "metadata": {},
   "source": [
    "# Get linear response for each alpha"
   ]
  },
  {
   "cell_type": "code",
   "execution_count": 30,
   "metadata": {},
   "outputs": [],
   "source": [
    "lr_list = []\n",
    "lr_time_vec = []\n",
    "\n",
    "for alpha in alpha_list: \n",
    "        \n",
    "    # get linear appxoimation\n",
    "    t0 = time.time() \n",
    "    _alpha = np.array([alpha])\n",
    "    lr_free_params = vb_sens.predict_opt_par_from_hyper_par(_alpha)\n",
    "    elapsed = time.time() - t0\n",
    "    \n",
    "    # save\n",
    "    lr_list.append(lr_free_params)\n",
    "    lr_time_vec.append(elapsed)\n",
    "    \n",
    "lr_time_vec = onp.array(lr_time_vec)"
   ]
  },
  {
   "cell_type": "code",
   "execution_count": 31,
   "metadata": {},
   "outputs": [
    {
     "name": "stdout",
     "output_type": "stream",
     "text": [
      "Total lin. approx time:  0.027171611785888672 secs\n"
     ]
    }
   ],
   "source": [
    "print('Total lin. approx time: ', lr_time_vec.sum(), 'secs')"
   ]
  },
  {
   "cell_type": "code",
   "execution_count": null,
   "metadata": {},
   "outputs": [],
   "source": []
  },
  {
   "cell_type": "code",
   "execution_count": null,
   "metadata": {},
   "outputs": [],
   "source": []
  },
  {
   "cell_type": "markdown",
   "metadata": {},
   "source": [
    "# Check results on number of clusters"
   ]
  },
  {
   "cell_type": "markdown",
   "metadata": {},
   "source": [
    "We consider two posterior quantities: \n",
    "the expected number of in-sample clusters and \n",
    "the expected number of predictive clusters. \n",
    "\n",
    "Let $G(z) = \\sum_{k} 1\\{\\sum_{n} z_{nk} > 0\\}$ be the number of clusters as a function of the cluster assignments $z$.\n",
    "- Here, $z_{nk} = 1$ if the $n$-th iris belongs to component $k$, and $1\\{\\cdot\\}$ is the indicator function. \n",
    "\n",
    "The expected **in-sample** number of clusters is the expectation of $G(z)$ under the approximate posterior, \n",
    "\\begin{align*}\n",
    "    E[\\text{num. in-sample clusters}] = E_{q(z)}[G(z)].\n",
    "\\end{align*}\n",
    "\n",
    "The expected **predictive** number of clusters is the number of clusters we would expect to see in a new sample of of $N$ iris flowers. This is given by \n",
    "\n",
    "\\begin{align*}\n",
    "    E[\\text{num. predictive clusters}] = E_{q(\\pi)}[E_{p(z|\\pi)}[G(z)]],\n",
    "\\end{align*}\n",
    "where recall that $\\pi$ are the latent mixture weights. \n",
    "\n",
    "\n",
    "    "
   ]
  },
  {
   "cell_type": "code",
   "execution_count": 32,
   "metadata": {},
   "outputs": [],
   "source": [
    "prng_key = jax.random.PRNGKey(223)\n",
    "\n",
    "@jax.jit\n",
    "def get_n_clusters_insample(vb_free):\n",
    "    # the expected number of in-sample clusters as a function of the \n",
    "    # flattened vb parameters\n",
    "    \n",
    "    vb_params_dict = vb_params_paragami.fold(vb_free, free = True)\n",
    "    \n",
    "    return gmm_posterior_quantities_lib.get_e_num_clusters_from_vb_dict(iris_obs,\n",
    "                                                    vb_params_dict,\n",
    "                                                    gh_loc, gh_weights,\n",
    "                                                    threshold = 0,\n",
    "                                                    n_samples = 10000, \n",
    "                                                    prng_key = prng_key)\n",
    "\n",
    "@jax.jit\n",
    "def get_n_clusters_pred(vb_free):\n",
    "    # the expected number of predictive clusters\n",
    "    \n",
    "    vb_params_dict = vb_params_paragami.fold(vb_free, free = True)\n",
    "    \n",
    "    return gmm_posterior_quantities_lib.get_e_num_pred_clusters_from_vb_dict(vb_params_dict,\n",
    "                                                               n_obs = iris_obs.shape[0],\n",
    "                                                               threshold = 0,\n",
    "                                                               prng_key = prng_key)"
   ]
  },
  {
   "cell_type": "code",
   "execution_count": 36,
   "metadata": {},
   "outputs": [
    {
     "data": {
      "image/png": "[encoded data removed]",
      "text/plain": [
       "<Figure size 576x216 with 2 Axes>"
      ]
     },
     "metadata": {
      "needs_background": "light"
     },
     "output_type": "display_data"
    }
   ],
   "source": [
    "fig, axarr = plt.subplots(1, 2, figsize = (8, 3))\n",
    "\n",
    "# in sample number of clusters\n",
    "result_loading_utils.plot_post_stat_per_epsilon(get_n_clusters_insample, \n",
    "                                               refit_list,\n",
    "                                               lr_list,\n",
    "                                               alpha_list, \n",
    "                                               axarr[0])\n",
    "axarr[0].legend()\n",
    "axarr[0].set_title('In-sample')\n",
    "\n",
    "# predictive number of clusters\n",
    "result_loading_utils.plot_post_stat_per_epsilon(get_n_clusters_pred, \n",
    "                                               refit_list,\n",
    "                                               lr_list,\n",
    "                                               alpha_list, \n",
    "                                               axarr[1])\n",
    "axarr[1].set_title('Predictive')\n",
    "\n",
    "for i in range(2):\n",
    "    axarr[i].axvline(alpha0, \n",
    "                     color = 'red', \n",
    "                     linestyle = '--')\n",
    "    axarr[i].set_xlabel('alpha')\n",
    "    axarr[i].set_ylabel('num posterior clusters')\n",
    "\n",
    "fig.tight_layout()"
   ]
  },
  {
   "cell_type": "code",
   "execution_count": null,
   "metadata": {},
   "outputs": [],
   "source": []
  },
  {
   "cell_type": "code",
   "execution_count": null,
   "metadata": {},
   "outputs": [],
   "source": []
  },
  {
   "cell_type": "code",
   "execution_count": null,
   "metadata": {},
   "outputs": [],
   "source": []
  },
  {
   "cell_type": "code",
   "execution_count": null,
   "metadata": {},
   "outputs": [],
   "source": []
  }
 ],
 "metadata": {
  "kernelspec": {
   "display_name": "bnp_sensitivity_public",
   "language": "python",
   "name": "bnp_sensitivity_public"
  },
  "language_info": {
   "codemirror_mode": {
    "name": "ipython",
    "version": 3
   },
   "file_extension": ".py",
   "mimetype": "text/x-python",
   "name": "python",
   "nbconvert_exporter": "python",
   "pygments_lexer": "ipython3",
   "version": "3.9.5"
  }
 },
 "nbformat": 4,
 "nbformat_minor": 4
}
