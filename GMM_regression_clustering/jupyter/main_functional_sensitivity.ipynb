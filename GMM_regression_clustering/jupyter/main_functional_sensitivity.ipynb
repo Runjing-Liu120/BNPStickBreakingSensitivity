{
 "cells": [
  {
   "cell_type": "markdown",
   "metadata": {},
   "source": [
    "In this notebook, we construct an influence function for the co-clustering matrix, and use the influence function to find an influentional functional perturbation. "
   ]
  },
  {
   "cell_type": "code",
   "execution_count": 1,
   "metadata": {},
   "outputs": [
    {
     "name": "stderr",
     "output_type": "stream",
     "text": [
      "/home/rliu/anaconda3/envs/bnp_sensitivity_public/lib/python3.9/site-packages/jax/lib/xla_bridge.py:130: UserWarning: No GPU/TPU found, falling back to CPU.\n",
      "  warnings.warn('No GPU/TPU found, falling back to CPU.')\n"
     ]
    }
   ],
   "source": [
    "import matplotlib.pyplot as plt\n",
    "%matplotlib inline\n",
    "\n",
    "import jax\n",
    "import jax.numpy as np\n",
    "import jax.scipy as sp\n",
    "\n",
    "import numpy as onp\n",
    "from numpy.polynomial.hermite import hermgauss\n",
    "\n",
    "import paragami \n",
    "\n",
    "from copy import deepcopy\n",
    "import time\n",
    "\n",
    "onp.random.seed(3452453)"
   ]
  },
  {
   "cell_type": "code",
   "execution_count": 2,
   "metadata": {},
   "outputs": [],
   "source": [
    "# bnp libraries\n",
    "from bnpmodeling import result_loading_utils, influence_lib\n",
    "from bnpmodeling.sensitivity_lib import HyperparameterSensitivityLinearApproximation\n",
    "from bnpmodeling.bnp_optimization_lib import optimize_kl\n",
    "import bnpmodeling.functional_sensitivity_lib as func_sens_lib\n",
    "\n",
    "# regression-mixture libraries\n",
    "from bnpreg import genomics_data_utils\n",
    "from bnpreg import regression_mixture_lib\n",
    "from bnpreg import regression_optimization_lib as reg_optim_lib\n",
    "from bnpreg import regression_posterior_quantities as reg_posterior_quantities"
   ]
  },
  {
   "cell_type": "code",
   "execution_count": 3,
   "metadata": {},
   "outputs": [],
   "source": [
    "import regression_plotting_utils"
   ]
  },
  {
   "cell_type": "code",
   "execution_count": null,
   "metadata": {},
   "outputs": [],
   "source": []
  },
  {
   "cell_type": "markdown",
   "metadata": {},
   "source": [
    "\n",
    "# Load data"
   ]
  },
  {
   "cell_type": "code",
   "execution_count": 4,
   "metadata": {},
   "outputs": [
    {
     "name": "stdout",
     "output_type": "stream",
     "text": [
      "Loading data from:  ../../../genomic_time_series_bnp/data/shoemaker2015reprocessed\n"
     ]
    }
   ],
   "source": [
    "# Set bnp_data_repo to be the location of a clone of the repo\n",
    "# https://github.com/NelleV/genomic_time_series_bnp\n",
    "bnp_data_repo = '../../../genomic_time_series_bnp' \n",
    "\n",
    "genome_data, timepoints, regressors, beta, beta_infos, y_infos = \\\n",
    "    genomics_data_utils.load_data_and_run_regressions(bnp_data_repo)"
   ]
  },
  {
   "cell_type": "code",
   "execution_count": 5,
   "metadata": {},
   "outputs": [],
   "source": [
    "n_genes = genome_data.shape[0]\n",
    "reg_dim = regressors.shape[1]"
   ]
  },
  {
   "cell_type": "code",
   "execution_count": 6,
   "metadata": {},
   "outputs": [],
   "source": [
    "n_timepoints = len(np.unique(timepoints))"
   ]
  },
  {
   "cell_type": "code",
   "execution_count": null,
   "metadata": {},
   "outputs": [],
   "source": []
  },
  {
   "cell_type": "markdown",
   "metadata": {},
   "source": [
    "# Define model"
   ]
  },
  {
   "cell_type": "markdown",
   "metadata": {},
   "source": [
    "## Prior parameters"
   ]
  },
  {
   "cell_type": "code",
   "execution_count": 7,
   "metadata": {},
   "outputs": [],
   "source": [
    "prior_params_dict, prior_params_paragami = regression_mixture_lib.get_default_prior_params()"
   ]
  },
  {
   "cell_type": "code",
   "execution_count": null,
   "metadata": {},
   "outputs": [],
   "source": []
  },
  {
   "cell_type": "markdown",
   "metadata": {},
   "source": [
    "### VB parameters"
   ]
  },
  {
   "cell_type": "code",
   "execution_count": 8,
   "metadata": {},
   "outputs": [],
   "source": [
    "# Gauss-Hermite points for integrating logitnormal stick-breaking prior\n",
    "gh_deg = 8\n",
    "gh_loc, gh_weights = hermgauss(gh_deg)\n",
    "\n",
    "# convert to jax arrays\n",
    "gh_loc, gh_weights = np.array(gh_loc), np.array(gh_weights)\n"
   ]
  },
  {
   "cell_type": "code",
   "execution_count": 9,
   "metadata": {},
   "outputs": [],
   "source": [
    "vb_opt_dict, vb_params_paragami, meta_data = paragami.load_folded('./initial_mice_fit.npz')\n",
    "vb_opt = vb_params_paragami.flatten(vb_opt_dict, free = True)\n",
    "    \n",
    "# set prior\n",
    "prior_params_dict['dp_prior_alpha'] = meta_data['dp_prior_alpha']"
   ]
  },
  {
   "cell_type": "code",
   "execution_count": 10,
   "metadata": {},
   "outputs": [],
   "source": [
    "# check KL matches\n",
    "kl = regression_mixture_lib.get_kl(genome_data,\n",
    "                                   regressors,\n",
    "                                   vb_opt_dict,\n",
    "                                   prior_params_dict,\n",
    "                                   gh_loc,\n",
    "                                   gh_weights)\n",
    "\n",
    "assert np.abs(meta_data['final_kl'] - kl) < 1e-10"
   ]
  },
  {
   "cell_type": "code",
   "execution_count": null,
   "metadata": {},
   "outputs": [],
   "source": []
  },
  {
   "cell_type": "markdown",
   "metadata": {},
   "source": [
    "# Define sensitivity object"
   ]
  },
  {
   "cell_type": "markdown",
   "metadata": {},
   "source": [
    "We will set the perturbation later. This is really just a wrapper for the Hessian solver."
   ]
  },
  {
   "cell_type": "code",
   "execution_count": 11,
   "metadata": {},
   "outputs": [],
   "source": [
    "def objective_fun(vb_free, epsilon): \n",
    "    # NOTE! epsilon doesn't actually enter \n",
    "    # into this function. \n",
    "    \n",
    "    # since the initial fit is at epsilon = 0, \n",
    "    # we just return the actual KL\n",
    "    \n",
    "    # we will set the hyper-param objective function \n",
    "    # appropriately, later. \n",
    "    \n",
    "    vb_params_dict = vb_params_paragami.fold(vb_free, free = True)\n",
    "    \n",
    "    return regression_mixture_lib.get_kl(genome_data, regressors,\n",
    "                                         vb_params_dict,\n",
    "                                         prior_params_dict,\n",
    "                                         gh_loc,\n",
    "                                         gh_weights).squeeze()\n"
   ]
  },
  {
   "cell_type": "code",
   "execution_count": 12,
   "metadata": {},
   "outputs": [
    {
     "name": "stdout",
     "output_type": "stream",
     "text": [
      "Compiling hessian solver ...\n",
      "Hessian solver compile time: 10.337sec\n",
      "\n",
      "Compiling cross hessian...\n",
      "Cross-hessian compile time: 0.0332355sec\n",
      "\n",
      "LR sensitivity time: 0.0253961sec\n",
      "\n"
     ]
    }
   ],
   "source": [
    "vb_sens = HyperparameterSensitivityLinearApproximation(\n",
    "                    objective_fun = objective_fun, \n",
    "                    opt_par_value = vb_opt, \n",
    "                    hyper_par_value0 = np.array([0.]), \n",
    "                    # will set appropriately later\n",
    "                    hyper_par_objective_fun = lambda x, y : 0.)"
   ]
  },
  {
   "cell_type": "code",
   "execution_count": null,
   "metadata": {},
   "outputs": [],
   "source": []
  },
  {
   "cell_type": "code",
   "execution_count": null,
   "metadata": {},
   "outputs": [],
   "source": []
  },
  {
   "cell_type": "markdown",
   "metadata": {},
   "source": [
    "# Define posterior statistic"
   ]
  },
  {
   "cell_type": "markdown",
   "metadata": {},
   "source": [
    "The posterior statistic for which we will compute an influence function is the sum of the eigenvalues of the graph Laplacian, constructed from the co-clustering matrix."
   ]
  },
  {
   "cell_type": "code",
   "execution_count": 13,
   "metadata": {},
   "outputs": [],
   "source": [
    "def get_optimal_ez(vb_params_free): \n",
    "        \n",
    "    vb_params_dict = vb_params_paragami.fold(vb_params_free, \n",
    "                                             free = True)\n",
    "    \n",
    "    ez  = reg_posterior_quantities.get_optimal_local_params_from_vb_dict(genome_data, regressors,\n",
    "                                                                            vb_params_dict,\n",
    "                                                                            prior_params_dict,\n",
    "                                                                            gh_loc,\n",
    "                                                                            gh_weights)[0]\n",
    "    return ez"
   ]
  },
  {
   "cell_type": "code",
   "execution_count": 14,
   "metadata": {},
   "outputs": [],
   "source": [
    "def get_coclustering(vb_params_free): \n",
    "    \n",
    "    ez = get_optimal_ez(vb_params_free)\n",
    "    \n",
    "    return np.dot(ez, ez.transpose())\n"
   ]
  },
  {
   "cell_type": "code",
   "execution_count": 15,
   "metadata": {},
   "outputs": [],
   "source": [
    "def get_graph_laplacian(vb_params_free): \n",
    "    # the symmetric graph laplacian\n",
    "    \n",
    "    w = get_coclustering(vb_params_free)\n",
    "    \n",
    "    n_obs = w.shape[0]\n",
    "    \n",
    "    d_inv_sqrt = np.diag(1 / np.sqrt(w.sum(0)))\n",
    "    \n",
    "    return np.eye(n_obs) - np.dot(np.dot(d_inv_sqrt, w), d_inv_sqrt)"
   ]
  },
  {
   "cell_type": "code",
   "execution_count": 16,
   "metadata": {},
   "outputs": [],
   "source": [
    "def g(vb_params_free): \n",
    "    l = get_graph_laplacian(vb_params_free)\n",
    "    \n",
    "    # trace of matrix is equivalent to sum of eigenvalues\n",
    "    return np.trace(l)"
   ]
  },
  {
   "cell_type": "code",
   "execution_count": null,
   "metadata": {},
   "outputs": [],
   "source": []
  },
  {
   "cell_type": "markdown",
   "metadata": {},
   "source": [
    "# Compute influence function"
   ]
  },
  {
   "cell_type": "code",
   "execution_count": 17,
   "metadata": {},
   "outputs": [],
   "source": [
    "get_grad_g = jax.jit(jax.jacobian(g, argnums = 0))\n",
    "grad_g = get_grad_g(vb_opt).block_until_ready()"
   ]
  },
  {
   "cell_type": "code",
   "execution_count": 18,
   "metadata": {},
   "outputs": [],
   "source": [
    "logit_v_grid = np.linspace(-4.5, 3, 1000)\n",
    "\n",
    "influence_operator = influence_lib.InfluenceOperator(vb_opt, \n",
    "                                                     vb_params_paragami, \n",
    "                                                     vb_sens.hessian_solver,\n",
    "                                                     prior_params_dict['dp_prior_alpha'],\n",
    "                                                     stick_key = 'stick_params')"
   ]
  },
  {
   "cell_type": "code",
   "execution_count": null,
   "metadata": {},
   "outputs": [],
   "source": [
    "# this is influence function\n",
    "influence_grid, _ = \\\n",
    "    influence_operator.get_influence(logit_v_grid, \n",
    "                                     grad_g, \n",
    "                                     weight_by_inv_prior = False)\n",
    "\n"
   ]
  },
  {
   "cell_type": "code",
   "execution_count": null,
   "metadata": {},
   "outputs": [],
   "source": []
  },
  {
   "cell_type": "markdown",
   "metadata": {},
   "source": [
    "### Define worst-case perturbation"
   ]
  },
  {
   "cell_type": "code",
   "execution_count": null,
   "metadata": {},
   "outputs": [],
   "source": [
    "worst_case = influence_lib.WorstCasePerturbation(influence_fun = None, \n",
    "                                         logit_v_grid = logit_v_grid, \n",
    "                                         delta = 1.0,\n",
    "                                         cached_influence_grid = influence_grid)"
   ]
  },
  {
   "cell_type": "code",
   "execution_count": null,
   "metadata": {},
   "outputs": [],
   "source": []
  },
  {
   "cell_type": "markdown",
   "metadata": {},
   "source": [
    "### Plot"
   ]
  },
  {
   "cell_type": "code",
   "execution_count": null,
   "metadata": {},
   "outputs": [],
   "source": [
    "def plot_influence_grid(influence_grid, influence_grid_x_prior, worst_case, ax): \n",
    "    \n",
    "    # plot y = 0 line\n",
    "    for i in range(3): \n",
    "        ax[i].axhline(0, color = 'black')\n",
    "    \n",
    "    # plot influence function\n",
    "    ax[0].plot(logit_v_grid, influence_grid, color = '#43a2ca')\n",
    "    \n",
    "    # plot influence x prior\n",
    "    ax[1].plot(logit_v_grid, influence_grid_x_prior, color = '#0868ac')\n",
    "    \n",
    "    # plot l-inf worst-case perturbation\n",
    "    wc_log_phi = worst_case.log_phi(logit_v_grid)\n",
    "    ax[2].plot(logit_v_grid, wc_log_phi, color = 'grey')\n",
    "    ax[2].fill_between(logit_v_grid, 0, wc_log_phi, color = 'grey', alpha = 0.5)\n",
    "    \n",
    "    for cp in worst_case.change_points: \n",
    "        ax[1].axvline(cp, color = 'grey', linestyle = 'dashed')\n",
    "    \n",
    "    ax[0].set_ylabel('influence')\n",
    "    ax[1].set_ylabel('influence x prior')\n",
    "    ax[2].set_ylabel('worst-case log phi')\n"
   ]
  },
  {
   "cell_type": "code",
   "execution_count": null,
   "metadata": {},
   "outputs": [],
   "source": [
    "fig, axarr = plt.subplots(1, 3, figsize = (12, 3),  sharex = False) \n",
    "\n",
    "plot_influence_grid(influence_grid,\n",
    "                    influence_grid_x_prior,\n",
    "                    worst_case,\n",
    "                    axarr)\n",
    "\n",
    "for j in range(3): \n",
    "    axarr[j].set_xlabel(r'logit-$\\nu_k$')\n",
    "    \n",
    "fig.tight_layout()\n"
   ]
  },
  {
   "cell_type": "code",
   "execution_count": null,
   "metadata": {},
   "outputs": [],
   "source": []
  },
  {
   "cell_type": "markdown",
   "metadata": {},
   "source": [
    "# Define prior perturbation"
   ]
  },
  {
   "cell_type": "code",
   "execution_count": 36,
   "metadata": {},
   "outputs": [],
   "source": [
    "delta = 2."
   ]
  },
  {
   "cell_type": "code",
   "execution_count": 37,
   "metadata": {},
   "outputs": [],
   "source": [
    "def log_phi(x): \n",
    "    scale = 0.1\n",
    "\n",
    "    bump1 = sp.stats.norm.pdf(x, loc = -2.5, scale = scale) * np.sqrt(2 * np.pi) * scale\n",
    "    bump2 = sp.stats.norm.pdf(x, loc = -2.1, scale = scale) * np.sqrt(2 * np.pi) * scale\n",
    "\n",
    "    return bump2 - bump1\n",
    "\n",
    "# def log_phi(x): \n",
    "#     return 2 * sp.special.expit(20 * (x + 2.3)) - 1\n",
    "\n",
    "f_obj = func_sens_lib.FunctionalPerturbationObjective(log_phi, \n",
    "                                                        vb_params_paragami, \n",
    "                                                        gh_loc = gh_loc, \n",
    "                                                        gh_weights = gh_weights, \n",
    "                                                        stick_key = 'stick_params', \n",
    "                                                        delta = delta)"
   ]
  },
  {
   "cell_type": "markdown",
   "metadata": {},
   "source": [
    "### Effect on the prior"
   ]
  },
  {
   "cell_type": "code",
   "execution_count": 38,
   "metadata": {},
   "outputs": [
    {
     "name": "stderr",
     "output_type": "stream",
     "text": [
      "/accounts/grad/runjing_liu/.conda/envs/bnp_sensitivity_jax/lib/python3.9/site-packages/scipy/integrate/_quadrature.py:259: AccuracyWarning: maxiter (50) exceeded. Latest difference = 1.860092e-02\n",
      "  warnings.warn(\n",
      "/accounts/grad/runjing_liu/.conda/envs/bnp_sensitivity_jax/lib/python3.9/site-packages/scipy/integrate/_quadrature.py:259: AccuracyWarning: maxiter (50) exceeded. Latest difference = 9.231720e-01\n",
      "  warnings.warn(\n"
     ]
    },
    {
     "data": {
      "image/png": "[encoded data removed]",
      "text/plain": [
       "<Figure size 1008x252 with 4 Axes>"
      ]
     },
     "metadata": {
      "needs_background": "light"
     },
     "output_type": "display_data"
    }
   ],
   "source": [
    "# set up prior perturbation class for plotting\n",
    "prior_perturbation = func_sens_lib.PriorPerturbation(\n",
    "                                    alpha0 = alpha0,\n",
    "                                    log_phi = f_obj.log_phi, \n",
    "                                    logit_v_ub = 10, \n",
    "                                    logit_v_lb = -10)\n",
    "\n",
    "prior_perturbation.plot_perturbation()"
   ]
  },
  {
   "cell_type": "markdown",
   "metadata": {},
   "source": [
    "### overlay prior perturbation with influence function"
   ]
  },
  {
   "cell_type": "code",
   "execution_count": 39,
   "metadata": {},
   "outputs": [
    {
     "data": {
      "text/plain": [
       "[<matplotlib.lines.Line2D at 0x7f3fb1cf0dc0>]"
      ]
     },
     "execution_count": 39,
     "metadata": {},
     "output_type": "execute_result"
    },
    {
     "data": {
      "image/png": "[encoded data removed]",
      "text/plain": [
       "<Figure size 432x288 with 1 Axes>"
      ]
     },
     "metadata": {
      "needs_background": "light"
     },
     "output_type": "display_data"
    }
   ],
   "source": [
    "plt.plot(logit_v_grid, influence_grid_x_prior / np.abs(influence_grid_x_prior).max() * 2.0)\n",
    "plt.plot(logit_v_grid, f_obj.log_phi(logit_v_grid))"
   ]
  },
  {
   "cell_type": "code",
   "execution_count": null,
   "metadata": {},
   "outputs": [],
   "source": []
  },
  {
   "cell_type": "code",
   "execution_count": null,
   "metadata": {},
   "outputs": [],
   "source": []
  },
  {
   "cell_type": "markdown",
   "metadata": {},
   "source": [
    "# Fit for a range of epsilon"
   ]
  },
  {
   "cell_type": "code",
   "execution_count": 40,
   "metadata": {},
   "outputs": [
    {
     "name": "stdout",
     "output_type": "stream",
     "text": [
      "[0.01, 0.5, 1.0]\n"
     ]
    }
   ],
   "source": [
    "epsilon_vec = [1e-2, 0.5, 1.] \n",
    "print(epsilon_vec)"
   ]
  },
  {
   "cell_type": "markdown",
   "metadata": {},
   "source": [
    "### Define and pre-compile gradients"
   ]
  },
  {
   "cell_type": "markdown",
   "metadata": {},
   "source": [
    "So we don't have to recompile for every epsilon ..."
   ]
  },
  {
   "cell_type": "code",
   "execution_count": 41,
   "metadata": {},
   "outputs": [],
   "source": [
    "def get_loss(vb_params_free, epsilon): \n",
    "    \n",
    "    vb_params_dict = vb_params_paragami.fold(vb_params_free, free = True)\n",
    "    \n",
    "    # get perturbation \n",
    "    e_log_phi = lambda means, infos : f_obj.e_log_phi_epsilon(means, infos, epsilon)\n",
    "    \n",
    "    # now add the dependence on epsilon\n",
    "    return regression_mixture_lib.get_kl(genome_data, regressors,\n",
    "                                         vb_params_dict,\n",
    "                                         prior_params_dict,\n",
    "                                         gh_loc,\n",
    "                                         gh_weights, \n",
    "                                         e_log_phi = e_log_phi).squeeze()"
   ]
  },
  {
   "cell_type": "code",
   "execution_count": 42,
   "metadata": {},
   "outputs": [],
   "source": [
    "get_fun = jax.jit(get_loss)\n",
    "\n",
    "get_grad = jax.jit(jax.grad(get_loss, argnums = 0))\n",
    "\n",
    "def _get_hvp(x, alpha, v):\n",
    "    return jax.jvp(jax.grad(get_loss, argnums = 0), (x, alpha), (v, 0.))[1]\n",
    "\n",
    "get_hvp = jax.jit(_get_hvp)"
   ]
  },
  {
   "cell_type": "code",
   "execution_count": null,
   "metadata": {},
   "outputs": [],
   "source": []
  },
  {
   "cell_type": "markdown",
   "metadata": {},
   "source": [
    "### Now refit"
   ]
  },
  {
   "cell_type": "code",
   "execution_count": 43,
   "metadata": {},
   "outputs": [],
   "source": [
    "def refit_with_epsilon(epsilon, new_init_dict):\n",
    "    \n",
    "    _, vb_opt_pert, _, optim_time = \\\n",
    "        optimize_kl(lambda x : get_fun(x, epsilon),\n",
    "                     new_init_dict, \n",
    "                     vb_params_paragami, \n",
    "                     get_grad = lambda x : get_grad(x, epsilon),\n",
    "                     get_hvp = lambda x, v: get_hvp(x, epsilon, v),\n",
    "                     run_lbfgs = False,\n",
    "                     run_newton = True)                        \n",
    "\n",
    "    return vb_opt_pert, optim_time"
   ]
  },
  {
   "cell_type": "code",
   "execution_count": 44,
   "metadata": {},
   "outputs": [
    {
     "name": "stdout",
     "output_type": "stream",
     "text": [
      "\n",
      "################\n",
      "re-optimzing with epsilon =  0.01\n",
      "################\n",
      "compiling objective and derivatives ... \n",
      "done. Compile time: 16.775sec\n",
      "Running trust-ncg ... \n",
      "Newton time: 5.838sec\n",
      "Newton out:  Optimization terminated successfully.\n",
      "done. \n",
      "\n",
      "################\n",
      "re-optimzing with epsilon =  0.5\n",
      "################\n",
      "compiling objective and derivatives ... \n",
      "done. Compile time: 2.091sec\n",
      "Running trust-ncg ... \n",
      "Newton time: 16.883sec\n",
      "Newton out:  Optimization terminated successfully.\n",
      "done. \n",
      "\n",
      "################\n",
      "re-optimzing with epsilon =  1.0\n",
      "################\n",
      "compiling objective and derivatives ... \n",
      "done. Compile time: 2.091sec\n",
      "Running trust-ncg ... \n",
      "Newton time: 23.523sec\n",
      "Newton out:  Optimization terminated successfully.\n",
      "done. \n"
     ]
    }
   ],
   "source": [
    "refit_list = []\n",
    "refit_time_vec = []\n",
    "\n",
    "new_init_dict = deepcopy(vb_opt_dict)\n",
    "\n",
    "for epsilon in epsilon_vec: \n",
    "    print('\\n################')\n",
    "    print('re-optimzing with epsilon = ', epsilon)\n",
    "    print('################')\n",
    "    \n",
    "    refit_free, optim_time = refit_with_epsilon(epsilon, new_init_dict)\n",
    "    \n",
    "    refit_time_vec.append(optim_time)\n",
    "    refit_list.append(refit_free)\n",
    "    \n",
    "    # new_init_dict = deepcopy(vb_params_paragami.fold(refit_free, free = True))"
   ]
  },
  {
   "cell_type": "code",
   "execution_count": null,
   "metadata": {},
   "outputs": [],
   "source": []
  },
  {
   "cell_type": "code",
   "execution_count": null,
   "metadata": {},
   "outputs": [],
   "source": []
  },
  {
   "cell_type": "markdown",
   "metadata": {},
   "source": [
    "### Get linear response for each epsilon"
   ]
  },
  {
   "cell_type": "code",
   "execution_count": 45,
   "metadata": {},
   "outputs": [
    {
     "name": "stdout",
     "output_type": "stream",
     "text": [
      "Compiling cross hessian...\n",
      "Cross-hessian compile time: 0.466021sec\n",
      "\n",
      "LR sensitivity time: 2.84213sec\n",
      "\n"
     ]
    }
   ],
   "source": [
    "# set sensitivity class\n",
    "vb_sens._set_cross_hess_and_solve(f_obj.hyper_par_objective_fun)"
   ]
  },
  {
   "cell_type": "code",
   "execution_count": 46,
   "metadata": {},
   "outputs": [],
   "source": [
    "hess_solve_time = vb_sens.lr_time"
   ]
  },
  {
   "cell_type": "code",
   "execution_count": 47,
   "metadata": {},
   "outputs": [],
   "source": [
    "lr_list = []\n",
    "lr_time_vec = []\n",
    "\n",
    "for epsilon in epsilon_vec: \n",
    "        \n",
    "    # get linear response\n",
    "    t0 = time.time() \n",
    "    lr_free_params = vb_sens.predict_opt_par_from_hyper_par(epsilon).block_until_ready()\n",
    "    elapsed = time.time() - t0\n",
    "    \n",
    "    lr_list.append(lr_free_params)\n",
    "    lr_time_vec.append(elapsed)\n",
    "    \n",
    "lr_time_vec = onp.array(lr_time_vec)"
   ]
  },
  {
   "cell_type": "code",
   "execution_count": 48,
   "metadata": {},
   "outputs": [
    {
     "data": {
      "text/plain": [
       "array([0.04587841, 0.00100636, 0.00095129])"
      ]
     },
     "execution_count": 48,
     "metadata": {},
     "output_type": "execute_result"
    }
   ],
   "source": [
    "lr_time_vec"
   ]
  },
  {
   "cell_type": "code",
   "execution_count": null,
   "metadata": {},
   "outputs": [],
   "source": []
  },
  {
   "cell_type": "markdown",
   "metadata": {},
   "source": [
    "### Print results"
   ]
  },
  {
   "cell_type": "code",
   "execution_count": 49,
   "metadata": {},
   "outputs": [
    {
     "data": {
      "image/png": "[encoded data removed]",
      "text/plain": [
       "<Figure size 360x288 with 1 Axes>"
      ]
     },
     "metadata": {
      "needs_background": "light"
     },
     "output_type": "display_data"
    },
    {
     "data": {
      "image/png": "[encoded data removed]",
      "text/plain": [
       "<Figure size 360x288 with 1 Axes>"
      ]
     },
     "metadata": {
      "needs_background": "light"
     },
     "output_type": "display_data"
    },
    {
     "data": {
      "image/png": "[encoded data removed]",
      "text/plain": [
       "<Figure size 360x288 with 1 Axes>"
      ]
     },
     "metadata": {
      "needs_background": "light"
     },
     "output_type": "display_data"
    }
   ],
   "source": [
    "for i in range(len(epsilon_vec)): \n",
    "    fig, ax = plt.subplots(1, 1, figsize = (5, 4))\n",
    "\n",
    "    result_loading_utils.print_diff_plot(refit_list[i], \n",
    "                                         lr_list[i],\n",
    "                                         vb_opt,\n",
    "                                         ax, \n",
    "                                         alpha = 1.)\n",
    "    \n",
    "    plt.title('epsilon = {}'.format(epsilon_vec[i]))\n",
    "    "
   ]
  },
  {
   "cell_type": "code",
   "execution_count": null,
   "metadata": {},
   "outputs": [],
   "source": []
  },
  {
   "cell_type": "code",
   "execution_count": 50,
   "metadata": {},
   "outputs": [
    {
     "data": {
      "image/png": "[encoded data removed]",
      "text/plain": [
       "<Figure size 360x288 with 1 Axes>"
      ]
     },
     "metadata": {
      "needs_background": "light"
     },
     "output_type": "display_data"
    }
   ],
   "source": [
    "fig, axarr = plt.subplots(1, 1, figsize = (5, 4), sharey = True)\n",
    "\n",
    "    \n",
    "result_loading_utils.plot_post_stat_per_epsilon(g,\n",
    "                                                refit_list,\n",
    "                                                lr_list,\n",
    "                                                epsilon_vec, \n",
    "                                                axarr)\n",
    "axarr.legend()\n",
    "fig.tight_layout();"
   ]
  },
  {
   "cell_type": "code",
   "execution_count": null,
   "metadata": {},
   "outputs": [],
   "source": []
  },
  {
   "cell_type": "markdown",
   "metadata": {},
   "source": [
    "# Co-clustering"
   ]
  },
  {
   "cell_type": "code",
   "execution_count": 51,
   "metadata": {},
   "outputs": [],
   "source": [
    "import scipy.cluster.hierarchy as sch\n",
    "\n",
    "# for better plotting, cluster the ez's\n",
    "link = sch.linkage(ez_opt, method='average')\n",
    "perm_obs = sch.dendrogram(link, no_plot=True)[\"leaves\"]"
   ]
  },
  {
   "cell_type": "code",
   "execution_count": 52,
   "metadata": {},
   "outputs": [
    {
     "name": "stdout",
     "output_type": "stream",
     "text": [
      "Epsilon =  1.0\n"
     ]
    },
    {
     "data": {
      "image/png": "[encoded data removed]",
      "text/plain": [
       "<Figure size 576x432 with 7 Axes>"
      ]
     },
     "metadata": {
      "needs_background": "light"
     },
     "output_type": "display_data"
    }
   ],
   "source": [
    "fig, axarr = plt.subplots(2, 2, figsize = (8, 6))\n",
    "\n",
    "###############\n",
    "# Compute co-clustering matrices\n",
    "###############\n",
    "epsilon_indx = -1\n",
    "print('Epsilon = ', epsilon_vec[epsilon_indx])\n",
    "\n",
    "coclust_init = get_coclustering(vb_opt)[perm_obs][:, perm_obs]\n",
    "coclust_lr = get_coclustering(lr_list[epsilon_indx])[perm_obs][:, perm_obs]\n",
    "coclust_refit = get_coclustering(refit_list[epsilon_indx])[perm_obs][:, perm_obs]\n",
    "\n",
    "################\n",
    "# initial co-clustering matrix\n",
    "################\n",
    "im0 = axarr[0, 0].matshow(coclust_init, \n",
    "                 cmap = plt.get_cmap('Blues'))\n",
    "axarr[0, 0].set_title('init')\n",
    "fig.colorbar(im0, ax = axarr[0, 0])\n",
    "\n",
    "################\n",
    "# differences\n",
    "################\n",
    "result_loading_utils.print_diff_plot(coclust_refit.flatten(), \n",
    "                                    coclust_lr.flatten(),\n",
    "                                    coclust_init.flatten(), \n",
    "                                    axarr[0, 1], \n",
    "                                    alpha = 0.01)\n",
    "\n",
    "result_loading_utils.plot_colormaps(coclust_refit,\n",
    "                                   coclust_lr,\n",
    "                                   coclust_init,\n",
    "                                   fig,\n",
    "                                   axarr[1], \n",
    "                                   plot_initial = False, \n",
    "                                   diff_vmax = None)\n",
    "\n",
    "fig.tight_layout()\n"
   ]
  },
  {
   "cell_type": "code",
   "execution_count": null,
   "metadata": {},
   "outputs": [],
   "source": []
  },
  {
   "cell_type": "code",
   "execution_count": 53,
   "metadata": {},
   "outputs": [
    {
     "name": "stdout",
     "output_type": "stream",
     "text": [
      "saving into: \n",
      "/scratch/users/genomic_times_series_bnp/bnp_sensitivity_paper_data/mice/functional_coclustering\n"
     ]
    }
   ],
   "source": [
    "if save_data: \n",
    "    print('saving into: ')\n",
    "    outfile = outdata_dir + 'functional_coclustering'\n",
    "    print(outfile)\n",
    "    np.savez(outfile, \n",
    "         coclust_refit = coclust_refit, \n",
    "         coclust_lr = coclust_lr, \n",
    "         coclust_init = coclust_init, \n",
    "         logit_v_grid = logit_v_grid, \n",
    "         log_phi = f_obj.log_phi(logit_v_grid), \n",
    "         p0_logit = np.exp(prior_perturbation.get_log_p0_logit(logit_v_grid)), \n",
    "         pc_logit = np.exp(prior_perturbation.get_log_pc_logit(logit_v_grid)), \n",
    "         p0_constrained = np.exp(prior_perturbation.get_log_p0(sp.special.expit(logit_v_grid))), \n",
    "         pc_constrained = np.exp(prior_perturbation.get_log_pc(sp.special.expit(logit_v_grid))))"
   ]
  },
  {
   "cell_type": "code",
   "execution_count": 54,
   "metadata": {},
   "outputs": [],
   "source": [
    "if save_data:\n",
    "    # save timing results\n",
    "    np.savez(outdata_dir + 'functional_coclustering_timing', \n",
    "             grad_time = grad_time, \n",
    "             infl_time = infl_time, \n",
    "             hess_solve_time = hess_solve_time, \n",
    "             refit_time_vec = refit_time_vec, \n",
    "             lr_time_vec = lr_time_vec)"
   ]
  },
  {
   "cell_type": "code",
   "execution_count": null,
   "metadata": {},
   "outputs": [],
   "source": []
  },
  {
   "cell_type": "code",
   "execution_count": null,
   "metadata": {},
   "outputs": [],
   "source": []
  },
  {
   "cell_type": "raw",
   "metadata": {},
   "source": []
  }
 ],
 "metadata": {
  "kernelspec": {
   "display_name": "bnp_sensitivity_public",
   "language": "python",
   "name": "bnp_sensitivity_public"
  },
  "language_info": {
   "codemirror_mode": {
    "name": "ipython",
    "version": 3
   },
   "file_extension": ".py",
   "mimetype": "text/x-python",
   "name": "python",
   "nbconvert_exporter": "python",
   "pygments_lexer": "ipython3",
   "version": "3.9.5"
  }
 },
 "nbformat": 4,
 "nbformat_minor": 4
}
