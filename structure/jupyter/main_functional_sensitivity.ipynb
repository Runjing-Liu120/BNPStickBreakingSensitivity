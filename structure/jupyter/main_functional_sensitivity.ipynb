{
 "cells": [
  {
   "cell_type": "code",
   "execution_count": 1,
   "metadata": {},
   "outputs": [
    {
     "name": "stderr",
     "output_type": "stream",
     "text": [
      "/accounts/grad/runjing_liu/.conda/envs/bnp_sensitivity_public/lib/python3.9/site-packages/jax/lib/xla_bridge.py:130: UserWarning: No GPU/TPU found, falling back to CPU.\n",
      "  warnings.warn('No GPU/TPU found, falling back to CPU.')\n"
     ]
    }
   ],
   "source": [
    "import jax\n",
    "import jax.numpy as np\n",
    "\n",
    "from numpy.polynomial.hermite import hermgauss\n",
    "\n",
    "from structure_vb_lib import structure_model_lib, posterior_quantities_lib, data_utils, plotting_utils\n",
    "import structure_vb_lib.structure_optimization_lib as s_optim_lib\n",
    "\n",
    "from bnpmodeling.sensitivity_lib import HyperparameterSensitivityLinearApproximation\n",
    "from bnpmodeling.bnp_optimization_lib import optimize_kl\n",
    "from bnpmodeling import influence_lib, cluster_quantities_lib, result_loading_utils\n",
    "import bnpmodeling.functional_sensitivity_lib as func_sens_lib\n",
    "\n",
    "import paragami\n",
    "\n",
    "from copy import deepcopy\n",
    "\n",
    "import time\n",
    "\n",
    "import matplotlib.pyplot as plt\n",
    "%matplotlib inline"
   ]
  },
  {
   "cell_type": "code",
   "execution_count": 2,
   "metadata": {},
   "outputs": [],
   "source": [
    "import numpy as onp\n",
    "seed = 98765\n",
    "onp.random.seed(seed)"
   ]
  },
  {
   "cell_type": "markdown",
   "metadata": {},
   "source": [
    "# Load data"
   ]
  },
  {
   "cell_type": "code",
   "execution_count": 3,
   "metadata": {},
   "outputs": [
    {
     "name": "stdout",
     "output_type": "stream",
     "text": [
      "loading thrush data from : \n",
      "../data/thrush_data/thrush-data.str\n"
     ]
    }
   ],
   "source": [
    "g_obs, _, labels, _ = data_utils.load_thrush_data()"
   ]
  },
  {
   "cell_type": "code",
   "execution_count": 4,
   "metadata": {},
   "outputs": [
    {
     "name": "stdout",
     "output_type": "stream",
     "text": [
      "(155, 7, 2, 21)\n"
     ]
    }
   ],
   "source": [
    "print(g_obs.shape)"
   ]
  },
  {
   "cell_type": "code",
   "execution_count": 5,
   "metadata": {},
   "outputs": [],
   "source": [
    "n_obs = g_obs.shape[0]\n",
    "n_loci = g_obs.shape[1]\n",
    "n_allele = g_obs.shape[-1]"
   ]
  },
  {
   "cell_type": "code",
   "execution_count": 6,
   "metadata": {},
   "outputs": [
    {
     "data": {
      "text/plain": [
       "array(['Chawia', 'Mbololo', 'Ngangao', 'Yale'], dtype='<U32')"
      ]
     },
     "execution_count": 6,
     "metadata": {},
     "output_type": "execute_result"
    }
   ],
   "source": [
    "onp.unique(labels)"
   ]
  },
  {
   "cell_type": "code",
   "execution_count": null,
   "metadata": {},
   "outputs": [],
   "source": []
  },
  {
   "cell_type": "markdown",
   "metadata": {},
   "source": [
    "# Get prior"
   ]
  },
  {
   "cell_type": "code",
   "execution_count": 7,
   "metadata": {},
   "outputs": [
    {
     "name": "stdout",
     "output_type": "stream",
     "text": [
      "{'dp_prior_alpha': 3.0, 'allele_prior_lambda_vec': DeviceArray([1., 1., 1., 1., 1., 1., 1., 1., 1., 1., 1., 1., 1., 1., 1.,\n",
      "             1., 1., 1., 1., 1., 1.], dtype=float64)}\n"
     ]
    }
   ],
   "source": [
    "prior_params_dict, prior_params_paragami = \\\n",
    "    structure_model_lib.get_default_prior_params(n_allele)\n",
    "\n",
    "alpha0 = 3.0\n",
    "prior_params_dict['dp_prior_alpha'] = alpha0\n",
    "\n",
    "print(prior_params_dict)\n",
    "\n",
    "prior_params_free = prior_params_paragami.flatten(prior_params_dict, free = True)"
   ]
  },
  {
   "cell_type": "code",
   "execution_count": null,
   "metadata": {},
   "outputs": [],
   "source": []
  },
  {
   "cell_type": "markdown",
   "metadata": {},
   "source": [
    "# Get VB params "
   ]
  },
  {
   "cell_type": "code",
   "execution_count": 8,
   "metadata": {},
   "outputs": [],
   "source": [
    "k_approx = 20"
   ]
  },
  {
   "cell_type": "code",
   "execution_count": 9,
   "metadata": {},
   "outputs": [],
   "source": [
    "gh_deg = 8\n",
    "gh_loc, gh_weights = hermgauss(8)"
   ]
  },
  {
   "cell_type": "code",
   "execution_count": 10,
   "metadata": {
    "scrolled": true
   },
   "outputs": [
    {
     "name": "stdout",
     "output_type": "stream",
     "text": [
      "OrderedDict:\n",
      "\t[pop_freq_dirichlet_params] = NumericArrayPattern (20, 7, 21) (lb=0.0, ub=inf)\n",
      "\t[ind_admix_params] = OrderedDict:\n",
      "\t[stick_means] = NumericArrayPattern (155, 19) (lb=-inf, ub=inf)\n",
      "\t[stick_infos] = NumericArrayPattern (155, 19) (lb=0.0001, ub=inf)\n"
     ]
    }
   ],
   "source": [
    "vb_params_dict, vb_params_paragami = \\\n",
    "    structure_model_lib.get_vb_params_paragami_object(n_obs = n_obs,\n",
    "                                                      n_loci = n_loci,\n",
    "                                                      n_allele = n_allele, \n",
    "                                                      k_approx = k_approx, \n",
    "                                                      prng_key = jax.random.PRNGKey(seed))\n",
    "    \n",
    "print(vb_params_paragami)"
   ]
  },
  {
   "cell_type": "code",
   "execution_count": null,
   "metadata": {},
   "outputs": [],
   "source": []
  },
  {
   "cell_type": "markdown",
   "metadata": {},
   "source": [
    "# Load the initial fit"
   ]
  },
  {
   "cell_type": "markdown",
   "metadata": {},
   "source": [
    "Run the parametric sensitivity note book first, which saves the initial fit"
   ]
  },
  {
   "cell_type": "code",
   "execution_count": 11,
   "metadata": {},
   "outputs": [],
   "source": [
    "vb_opt_dict, _, init_fit_metadata = \\\n",
    "    paragami.load_folded('./fits/structure_initial_fit.npz')\n",
    "\n",
    "vb_opt = vb_params_paragami.flatten(vb_opt_dict, free = True)\n",
    "\n",
    "# optimal z\n",
    "ez_opt = posterior_quantities_lib.get_optimal_z_from_vb_dict(g_obs, vb_opt_dict, gh_loc, gh_weights)\n",
    "\n",
    "# check model matches\n",
    "kl = structure_model_lib.get_kl(g_obs, \n",
    "                       vb_opt_dict, \n",
    "                       prior_params_dict, \n",
    "                       gh_loc, \n",
    "                       gh_weights)\n",
    "\n",
    "assert init_fit_metadata['alpha0'] == alpha0 \n",
    "assert np.abs(init_fit_metadata['final_kl'] - kl) < 1e-10"
   ]
  },
  {
   "cell_type": "code",
   "execution_count": null,
   "metadata": {},
   "outputs": [],
   "source": []
  },
  {
   "cell_type": "code",
   "execution_count": null,
   "metadata": {},
   "outputs": [],
   "source": []
  },
  {
   "cell_type": "markdown",
   "metadata": {},
   "source": [
    "# At the optimum, define the sensitivity object"
   ]
  },
  {
   "cell_type": "code",
   "execution_count": 12,
   "metadata": {},
   "outputs": [],
   "source": [
    "def objective_fun(vb_params_free, epsilon): \n",
    "    \n",
    "    # this actually does not depend on epsilon! \n",
    "    # we will set the perturbation later\n",
    "    \n",
    "    vb_params_dict = vb_params_paragami.fold(vb_params_free, free = True)\n",
    "    \n",
    "    return structure_model_lib.get_kl(g_obs, \n",
    "                                      vb_params_dict,\n",
    "                                      prior_params_dict,\n",
    "                                      gh_loc, \n",
    "                                      gh_weights).squeeze()"
   ]
  },
  {
   "cell_type": "code",
   "execution_count": 13,
   "metadata": {},
   "outputs": [
    {
     "name": "stdout",
     "output_type": "stream",
     "text": [
      "Compiling hessian solver ...\n",
      "Hessian solver compile time: 73.1733sec\n",
      "\n",
      "Compiling cross hessian...\n",
      "Cross-hessian compile time: 0.0546374sec\n",
      "\n",
      "LR sensitivity time: 0.0387638sec\n",
      "\n"
     ]
    }
   ],
   "source": [
    "# Define the linear sensitivity class\n",
    "vb_sens = HyperparameterSensitivityLinearApproximation(\n",
    "                    objective_fun = objective_fun, \n",
    "                    opt_par_value = vb_opt, \n",
    "                    hyper_par_value0 = np.array([0.]),\n",
    "                    # null for now. will set later\n",
    "                    hyper_par_objective_fun = lambda x, y: 0.)\n"
   ]
  },
  {
   "cell_type": "code",
   "execution_count": null,
   "metadata": {},
   "outputs": [],
   "source": []
  },
  {
   "cell_type": "markdown",
   "metadata": {},
   "source": [
    "# Check out the fit"
   ]
  },
  {
   "cell_type": "code",
   "execution_count": 14,
   "metadata": {},
   "outputs": [
    {
     "data": {
      "image/png": "[encoded data removed]",
      "text/plain": [
       "<Figure size 576x324 with 1 Axes>"
      ]
     },
     "metadata": {
      "needs_background": "light"
     },
     "output_type": "display_data"
    }
   ],
   "source": [
    "e_ind_admix = posterior_quantities_lib.get_vb_expectations(vb_opt_dict, gh_loc, gh_weights)[0]\n",
    "\n",
    "# sort everything within populations\n",
    "perm_obs = data_utils.cluster_admix_get_indx_within_labels(onp.array(e_ind_admix),\n",
    "                                                               labels)\n",
    "\n",
    "# now re-order populations: put chawia last\n",
    "_labels = deepcopy(labels)\n",
    "_labels[_labels == 'Chawia'] = 'z'\n",
    "perm_labels = onp.argsort(_labels)\n",
    "perm_obs = perm_obs[perm_labels]\n",
    "\n",
    "# plot admixture\n",
    "fig, ax = plt.subplots(1, 1, figsize = (8, 4.5))\n",
    "\n",
    "plotting_utils.plot_top_clusters(onp.array(e_ind_admix)[perm_obs], \n",
    "                                 ax,\n",
    "                                 8, \n",
    "                                 cmap_colors = plt.get_cmap('Set2').colors);\n",
    "\n",
    "# print labels\n",
    "plotting_utils.draw_region_separation(labels[perm_labels], ax);"
   ]
  },
  {
   "cell_type": "code",
   "execution_count": null,
   "metadata": {},
   "outputs": [],
   "source": []
  },
  {
   "cell_type": "markdown",
   "metadata": {},
   "source": [
    "# Define posterior statistic of interest"
   ]
  },
  {
   "cell_type": "code",
   "execution_count": 15,
   "metadata": {},
   "outputs": [],
   "source": [
    "def get_e_ind_admix_indx(vb_params_free, n_indx = None): \n",
    "    # returns the individual admixtures for a set of individuals in n_indx\n",
    "    \n",
    "    # get dictionary\n",
    "    vb_params_dict = vb_params_paragami.fold(vb_params_free, free = True)\n",
    "    \n",
    "    if n_indx is None: \n",
    "        n_indx = np.arange(vb_params_dict['ind_admix_params']['stick_means'].shape[0])\n",
    "    \n",
    "    # get sticks from these individual \n",
    "    stick_means = vb_params_dict['ind_admix_params']['stick_means'][n_indx]\n",
    "    stick_infos = vb_params_dict['ind_admix_params']['stick_infos'][n_indx]\n",
    "    \n",
    "    e_ind_admix = cluster_quantities_lib.get_mixture_weights_from_logitnorm_params(\n",
    "                        stick_means, \n",
    "                        stick_infos,\n",
    "                        gh_loc,\n",
    "                        gh_weights)\n",
    "    \n",
    "    return e_ind_admix"
   ]
  },
  {
   "cell_type": "markdown",
   "metadata": {},
   "source": [
    "These are the indices of the outlying individuals"
   ]
  },
  {
   "cell_type": "code",
   "execution_count": 16,
   "metadata": {},
   "outputs": [
    {
     "data": {
      "text/plain": [
       "DeviceArray([[25],\n",
       "             [26],\n",
       "             [27],\n",
       "             [28],\n",
       "             [29],\n",
       "             [30]], dtype=int64)"
      ]
     },
     "execution_count": 16,
     "metadata": {},
     "output_type": "execute_result"
    }
   ],
   "source": [
    "np.argwhere((e_ind_admix[perm_obs][:, 1] > 0.21) & (labels[perm_labels] == 'Mbololo'))"
   ]
  },
  {
   "cell_type": "code",
   "execution_count": 17,
   "metadata": {},
   "outputs": [
    {
     "data": {
      "text/plain": [
       "DeviceArray([[124],\n",
       "             [125],\n",
       "             [126],\n",
       "             [127]], dtype=int64)"
      ]
     },
     "execution_count": 17,
     "metadata": {},
     "output_type": "execute_result"
    }
   ],
   "source": [
    "np.argwhere((e_ind_admix[perm_obs][:, 0] > 0.4) & (labels[perm_labels] == 'Ngangao'))"
   ]
  },
  {
   "cell_type": "code",
   "execution_count": 18,
   "metadata": {},
   "outputs": [
    {
     "data": {
      "text/plain": [
       "DeviceArray([[138],\n",
       "             [139],\n",
       "             [140],\n",
       "             [141],\n",
       "             [142],\n",
       "             [143],\n",
       "             [144],\n",
       "             [145],\n",
       "             [146],\n",
       "             [147],\n",
       "             [148],\n",
       "             [149],\n",
       "             [150],\n",
       "             [151],\n",
       "             [152],\n",
       "             [153],\n",
       "             [154]], dtype=int64)"
      ]
     },
     "execution_count": 18,
     "metadata": {},
     "output_type": "execute_result"
    }
   ],
   "source": [
    "np.argwhere(labels[perm_labels] == 'Chawia')"
   ]
  },
  {
   "cell_type": "code",
   "execution_count": null,
   "metadata": {},
   "outputs": [],
   "source": []
  },
  {
   "cell_type": "code",
   "execution_count": 19,
   "metadata": {},
   "outputs": [],
   "source": [
    "mbololo_outlier_indx = onp.argwhere((e_ind_admix[:, 1] > 0.21) & (labels == 'Mbololo')).squeeze()\n",
    "def g_mbololo(vb_params_free): \n",
    "    \n",
    "    # get this individual's admixutre\n",
    "    admix = get_e_ind_admix_indx(vb_params_free, n_indx = mbololo_outlier_indx)\n",
    "    \n",
    "    # posterior statistic of interest: \n",
    "    # proportion of \"orange\" \n",
    "    return admix.mean(0)[1] \n",
    "\n",
    "\n",
    "chawia_indx = onp.argwhere(labels == 'Chawia').squeeze()\n",
    "def g_chawia(vb_params_free): \n",
    "    \n",
    "    # get this individual's admixutre\n",
    "    admix = get_e_ind_admix_indx(vb_params_free, n_indx = chawia_indx)\n",
    "    \n",
    "    # posterior statistic of interest: \n",
    "    # proportion of \"purple\" \n",
    "    return admix.mean(0)[2]\n",
    "\n",
    "\n",
    "ngangao_outlier_indx = onp.argwhere((e_ind_admix[:, 0] > 0.4) & (labels == 'Ngangao')).squeeze()\n",
    "def g_ngangao(vb_params_free): \n",
    "    \n",
    "    # get this individual's admixutre\n",
    "    admix = get_e_ind_admix_indx(vb_params_free, n_indx = ngangao_outlier_indx)\n",
    "    \n",
    "    # posterior statistic of interest: \n",
    "    # proportion of \"green\" \n",
    "    return admix.mean(0)[0]\n",
    "\n"
   ]
  },
  {
   "cell_type": "markdown",
   "metadata": {},
   "source": [
    "Choose a posterior statistic"
   ]
  },
  {
   "cell_type": "code",
   "execution_count": 20,
   "metadata": {},
   "outputs": [],
   "source": [
    "post_stat = 'mbololo'\n",
    "\n",
    "if post_stat == 'mbololo': \n",
    "    g = g_mbololo\n",
    "    outlier_indx = mbololo_outlier_indx\n",
    "    which_k = 1\n",
    "elif post_stat == 'chawia': \n",
    "    g = g_chawia\n",
    "    outlier_indx = chawia_indx\n",
    "    which_k = 2\n",
    "elif post_stat == 'ngangao': \n",
    "    g = g_ngangao\n",
    "    outlier_indx = ngangao_outlier_indx\n",
    "    which_k = 0\n",
    "else: \n",
    "    raise NotImplementedError()"
   ]
  },
  {
   "cell_type": "code",
   "execution_count": 21,
   "metadata": {},
   "outputs": [
    {
     "data": {
      "text/plain": [
       "DeviceArray(0.24236034, dtype=float64)"
      ]
     },
     "execution_count": 21,
     "metadata": {},
     "output_type": "execute_result"
    }
   ],
   "source": [
    "g(vb_opt)"
   ]
  },
  {
   "cell_type": "code",
   "execution_count": null,
   "metadata": {},
   "outputs": [],
   "source": []
  },
  {
   "cell_type": "markdown",
   "metadata": {},
   "source": [
    "# Get influence function"
   ]
  },
  {
   "cell_type": "code",
   "execution_count": 22,
   "metadata": {},
   "outputs": [],
   "source": [
    "influence_operator = influence_lib.InfluenceOperator(vb_opt, \n",
    "                           vb_params_paragami, \n",
    "                           vb_sens.hessian_solver,\n",
    "                           prior_params_dict['dp_prior_alpha'], \n",
    "                           stick_key = 'ind_admix_params')"
   ]
  },
  {
   "cell_type": "code",
   "execution_count": 23,
   "metadata": {},
   "outputs": [],
   "source": [
    "get_grad_g = jax.jit(jax.jacobian(g))\n",
    "grad_g = get_grad_g(vb_opt).block_until_ready()"
   ]
  },
  {
   "cell_type": "code",
   "execution_count": null,
   "metadata": {},
   "outputs": [],
   "source": []
  },
  {
   "cell_type": "code",
   "execution_count": 24,
   "metadata": {},
   "outputs": [],
   "source": [
    "logit_v_grid = np.linspace(-6, 6, 100)"
   ]
  },
  {
   "cell_type": "code",
   "execution_count": 25,
   "metadata": {},
   "outputs": [],
   "source": [
    "# weighted by prior\n",
    "influence_grid, grad_g_hess_inv = \\\n",
    "    influence_operator.get_influence(logit_v_grid, \n",
    "                                     grad_g, \n",
    "                                     weight_by_inv_prior = False)\n"
   ]
  },
  {
   "cell_type": "code",
   "execution_count": 26,
   "metadata": {},
   "outputs": [],
   "source": [
    "worst_case = influence_lib.WorstCasePerturbation(influence_fun = None, \n",
    "                                                 logit_v_grid = logit_v_grid, \n",
    "                                                 # negative because we are interested in \n",
    "                                                 # downard perturbation\n",
    "                                                 delta = -1,\n",
    "                                                 cached_influence_grid = influence_grid)"
   ]
  },
  {
   "cell_type": "code",
   "execution_count": 27,
   "metadata": {},
   "outputs": [
    {
     "name": "stderr",
     "output_type": "stream",
     "text": [
      "/accounts/grad/runjing_liu/.conda/envs/bnp_sensitivity_public/lib/python3.9/site-packages/scipy/integrate/_quadrature.py:276: AccuracyWarning: maxiter (50) exceeded. Latest difference = 8.355877e-02\n",
      "  warnings.warn(\n",
      "/accounts/grad/runjing_liu/.conda/envs/bnp_sensitivity_public/lib/python3.9/site-packages/scipy/integrate/_quadrature.py:276: AccuracyWarning: maxiter (50) exceeded. Latest difference = 1.502095e-01\n",
      "  warnings.warn(\n"
     ]
    }
   ],
   "source": [
    "# set up prior perturbation class for plotting\n",
    "prior_perturbation_wc = func_sens_lib.PriorPerturbation(\n",
    "                                    alpha0 = alpha0,\n",
    "                                    log_phi = worst_case.log_phi, \n",
    "                                    logit_v_ub = 10, \n",
    "                                    logit_v_lb = -10)"
   ]
  },
  {
   "cell_type": "code",
   "execution_count": 28,
   "metadata": {},
   "outputs": [],
   "source": [
    "def plot_influence_grid(influence_grid, worst_case, ax): \n",
    "    \n",
    "    # plot y = 0 line\n",
    "    for i in range(2): \n",
    "        ax[i].axhline(0, color = 'black')\n",
    "    \n",
    "    # plot influence function\n",
    "    ax[0].plot(logit_v_grid, influence_grid, color = '#43a2ca')\n",
    "        \n",
    "    # plot l-inf worst-case perturbation\n",
    "    wc_log_phi = worst_case.log_phi(logit_v_grid)\n",
    "    ax[1].plot(logit_v_grid, wc_log_phi, color = 'grey')\n",
    "    ax[1].fill_between(logit_v_grid, 0, wc_log_phi, color = 'grey', alpha = 0.5)\n",
    "    \n",
    "    for cp in worst_case.change_points: \n",
    "        ax[0].axvline(cp, color = 'grey', linestyle = 'dashed')\n",
    "    \n",
    "    ax[0].set_ylabel('influence')\n",
    "    ax[1].set_ylabel('worst-case log phi')\n"
   ]
  },
  {
   "cell_type": "code",
   "execution_count": 29,
   "metadata": {},
   "outputs": [
    {
     "data": {
      "image/png": "[encoded data removed]",
      "text/plain": [
       "<Figure size 864x216 with 3 Axes>"
      ]
     },
     "metadata": {
      "needs_background": "light"
     },
     "output_type": "display_data"
    }
   ],
   "source": [
    "fig, axarr = plt.subplots(1, 3, figsize = (12, 3),  sharex = False) \n",
    "\n",
    "plot_influence_grid(influence_grid,\n",
    "                    worst_case,\n",
    "                    axarr)\n",
    "\n",
    "for j in range(3): \n",
    "    axarr[j].set_xlabel(r'logit-$\\nu_k$')\n",
    "    \n",
    "    \n",
    "# plot perturbed prior \n",
    "prior_perturbation_wc._plot_priors_constrained(axarr[-1])\n",
    "\n",
    "fig.tight_layout()\n"
   ]
  },
  {
   "cell_type": "code",
   "execution_count": null,
   "metadata": {},
   "outputs": [],
   "source": []
  },
  {
   "cell_type": "code",
   "execution_count": null,
   "metadata": {},
   "outputs": [],
   "source": []
  },
  {
   "cell_type": "markdown",
   "metadata": {},
   "source": [
    "# Define perturbation"
   ]
  },
  {
   "cell_type": "code",
   "execution_count": 30,
   "metadata": {},
   "outputs": [],
   "source": [
    "import jax.scipy as sp"
   ]
  },
  {
   "cell_type": "code",
   "execution_count": 31,
   "metadata": {},
   "outputs": [],
   "source": [
    "f_obj = func_sens_lib.FunctionalPerturbationObjective(worst_case.log_phi, \n",
    "                                          vb_params_paragami, \n",
    "                                          e_log_phi = lambda x,y : worst_case.get_e_log_linf_perturbation(x,y), \n",
    "                                          gh_loc = gh_loc, \n",
    "                                          gh_weights = gh_weights, \n",
    "                                          stick_key = 'ind_admix_params')"
   ]
  },
  {
   "cell_type": "code",
   "execution_count": null,
   "metadata": {},
   "outputs": [],
   "source": []
  },
  {
   "cell_type": "markdown",
   "metadata": {},
   "source": [
    "# Get linear response predictions"
   ]
  },
  {
   "cell_type": "code",
   "execution_count": 32,
   "metadata": {},
   "outputs": [
    {
     "name": "stdout",
     "output_type": "stream",
     "text": [
      "[0.         0.02040816 0.08163265 0.18367347 0.32653061 0.51020408\n",
      " 0.73469388 1.        ]\n"
     ]
    }
   ],
   "source": [
    "epsilon_vec = np.linspace(0, 1., 8)**2\n",
    "print(epsilon_vec)"
   ]
  },
  {
   "cell_type": "code",
   "execution_count": 33,
   "metadata": {},
   "outputs": [
    {
     "name": "stdout",
     "output_type": "stream",
     "text": [
      "Compiling cross hessian...\n",
      "Cross-hessian compile time: 0.435995sec\n",
      "\n",
      "LR sensitivity time: 0.321753sec\n",
      "\n"
     ]
    }
   ],
   "source": [
    "# set LR sensitivity class\n",
    "vb_sens._set_cross_hess_and_solve(f_obj.hyper_par_objective_fun)"
   ]
  },
  {
   "cell_type": "code",
   "execution_count": 34,
   "metadata": {},
   "outputs": [],
   "source": [
    "hess_solve_time = vb_sens.lr_time"
   ]
  },
  {
   "cell_type": "code",
   "execution_count": 35,
   "metadata": {},
   "outputs": [],
   "source": [
    "lr_list = []\n",
    "\n",
    "for epsilon in epsilon_vec: \n",
    "        \n",
    "    # get linear response\n",
    "    lr_free_params = vb_sens.predict_opt_par_from_hyper_par(epsilon).block_until_ready()\n",
    "    \n",
    "    lr_list.append(lr_free_params)\n"
   ]
  },
  {
   "cell_type": "code",
   "execution_count": 36,
   "metadata": {},
   "outputs": [],
   "source": [
    "# save lr-results\n",
    "np.savez('./fits/structure_' + post_stat + '_lr_results', \n",
    "         dinput_dhyper = vb_sens.dinput_dhyper, \n",
    "         lr_list = onp.array(lr_list))"
   ]
  },
  {
   "cell_type": "code",
   "execution_count": null,
   "metadata": {},
   "outputs": [],
   "source": []
  },
  {
   "cell_type": "markdown",
   "metadata": {},
   "source": [
    "# Fit for a range of epsilon"
   ]
  },
  {
   "cell_type": "code",
   "execution_count": 37,
   "metadata": {},
   "outputs": [],
   "source": [
    "def get_loss(vb_params_free, epsilon): \n",
    "    \n",
    "    vb_params_dict = vb_params_paragami.fold(vb_params_free, free = True)\n",
    "    \n",
    "    # get perturbation \n",
    "    e_log_phi = lambda means, infos : f_obj.e_log_phi_epsilon(means, infos, epsilon)\n",
    "    \n",
    "    # now add the dependence on epsilon\n",
    "    return structure_model_lib.get_kl(g_obs, \n",
    "                                      vb_params_dict,\n",
    "                                      prior_params_dict,\n",
    "                                      gh_loc, \n",
    "                                      gh_weights, \n",
    "                                      e_log_phi = e_log_phi).squeeze()"
   ]
  },
  {
   "cell_type": "code",
   "execution_count": 38,
   "metadata": {},
   "outputs": [],
   "source": [
    "get_fun = jax.jit(get_loss)\n",
    "\n",
    "get_grad = jax.jit(jax.grad(get_loss, argnums = 0))\n",
    "\n",
    "def _get_hvp(x, hyper_param0, v):\n",
    "    return jax.jvp(jax.grad(get_loss, argnums = 0), (x, hyper_param0), (v, 0.))[1]\n",
    "\n",
    "get_hvp = jax.jit(_get_hvp)"
   ]
  },
  {
   "cell_type": "code",
   "execution_count": 39,
   "metadata": {},
   "outputs": [],
   "source": [
    "def refit_with_epsilon(epsilon, new_init_dict):\n",
    "    \n",
    "    vb_pert_dict, vb_opt_pert, _, optim_time = \\\n",
    "        optimize_kl(lambda x : get_fun(x, epsilon),\n",
    "                             new_init_dict, \n",
    "                             vb_params_paragami, \n",
    "                             get_grad = lambda x : get_grad(x, epsilon),\n",
    "                             get_hvp = lambda x, v: get_hvp(x, epsilon, v),\n",
    "                             run_lbfgs = False,\n",
    "                             run_newton = True)                           \n",
    "\n",
    "    return vb_pert_dict, vb_opt_pert, optim_time"
   ]
  },
  {
   "cell_type": "code",
   "execution_count": 40,
   "metadata": {},
   "outputs": [
    {
     "data": {
      "text/plain": [
       "'mbololo'"
      ]
     },
     "execution_count": 40,
     "metadata": {},
     "output_type": "execute_result"
    }
   ],
   "source": [
    "post_stat"
   ]
  },
  {
   "cell_type": "code",
   "execution_count": 41,
   "metadata": {},
   "outputs": [
    {
     "name": "stdout",
     "output_type": "stream",
     "text": [
      "\n",
      "################\n",
      "re-optimzing with epsilon =  0.0\n",
      "################\n",
      "compiling objective and derivatives ... \n",
      "done. Compile time: 35.299sec\n",
      "Running trust-ncg ... \n",
      "Newton time: 0.043sec\n",
      "Newton out:  Optimization terminated successfully.\n",
      "done. \n",
      "saving into ./fits/structure_fsens_mbololo_epsilonindx0\n",
      "\n",
      "################\n",
      "re-optimzing with epsilon =  0.02040816326530612\n",
      "################\n",
      "compiling objective and derivatives ... \n",
      "done. Compile time: 4.479sec\n",
      "Running trust-ncg ... \n",
      "Newton time: 3.782sec\n",
      "Newton out:  Optimization terminated successfully.\n",
      "done. \n",
      "saving into ./fits/structure_fsens_mbololo_epsilonindx1\n",
      "\n",
      "################\n",
      "re-optimzing with epsilon =  0.08163265306122448\n",
      "################\n",
      "compiling objective and derivatives ... \n",
      "done. Compile time: 4.474sec\n",
      "Running trust-ncg ... \n",
      "Newton time: 4.627sec\n",
      "Newton out:  Optimization terminated successfully.\n",
      "done. \n",
      "saving into ./fits/structure_fsens_mbololo_epsilonindx2\n",
      "\n",
      "################\n",
      "re-optimzing with epsilon =  0.18367346938775508\n",
      "################\n",
      "compiling objective and derivatives ... \n",
      "done. Compile time: 4.457sec\n",
      "Running trust-ncg ... \n",
      "Newton time: 5.123sec\n",
      "Newton out:  Optimization terminated successfully.\n",
      "done. \n",
      "saving into ./fits/structure_fsens_mbololo_epsilonindx3\n",
      "\n",
      "################\n",
      "re-optimzing with epsilon =  0.32653061224489793\n",
      "################\n",
      "compiling objective and derivatives ... \n",
      "done. Compile time: 4.469sec\n",
      "Running trust-ncg ... \n",
      "Newton time: 6.460sec\n",
      "Newton out:  Optimization terminated successfully.\n",
      "done. \n",
      "saving into ./fits/structure_fsens_mbololo_epsilonindx4\n",
      "\n",
      "################\n",
      "re-optimzing with epsilon =  0.5102040816326531\n",
      "################\n",
      "compiling objective and derivatives ... \n",
      "done. Compile time: 4.478sec\n",
      "Running trust-ncg ... \n",
      "Newton time: 8.736sec\n",
      "Newton out:  Optimization terminated successfully.\n",
      "done. \n",
      "saving into ./fits/structure_fsens_mbololo_epsilonindx5\n",
      "\n",
      "################\n",
      "re-optimzing with epsilon =  0.7346938775510203\n",
      "################\n",
      "compiling objective and derivatives ... \n",
      "done. Compile time: 4.511sec\n",
      "Running trust-ncg ... \n",
      "Newton time: 9.955sec\n",
      "Newton out:  Optimization terminated successfully.\n",
      "done. \n",
      "saving into ./fits/structure_fsens_mbololo_epsilonindx6\n",
      "\n",
      "################\n",
      "re-optimzing with epsilon =  1.0\n",
      "################\n",
      "compiling objective and derivatives ... \n",
      "done. Compile time: 4.495sec\n",
      "Running trust-ncg ... \n",
      "Newton time: 12.992sec\n",
      "Newton out:  Optimization terminated successfully.\n",
      "done. \n",
      "saving into ./fits/structure_fsens_mbololo_epsilonindx7\n"
     ]
    }
   ],
   "source": [
    "refit_list = []\n",
    "refit_time_vec = []\n",
    "\n",
    "new_init_dict = deepcopy(vb_opt_dict)\n",
    "\n",
    "i = 0\n",
    "for epsilon in epsilon_vec: \n",
    "    \n",
    "    print('\\n################')\n",
    "    print('re-optimzing with epsilon = ', epsilon)\n",
    "    print('################')\n",
    "    \n",
    "    # refit\n",
    "    vb_refit_dict, refit_free, optim_time = refit_with_epsilon(epsilon, new_init_dict)\n",
    "    \n",
    "    # save free parameters andtiming\n",
    "    refit_list.append(refit_free)\n",
    "    refit_time_vec.append(optim_time)\n",
    "    \n",
    "    # save results \n",
    "    outfile = './fits/structure_fsens_' + post_stat + '_epsilonindx' + str(i)\n",
    "    print('saving into', outfile)\n",
    "    paragami.save_folded(outfile, \n",
    "                         vb_refit_dict, \n",
    "                         vb_params_paragami, \n",
    "                         epsilon = epsilon,\n",
    "                         alpha0 = alpha0)\n",
    "    \n",
    "    i += 1\n",
    "    \n",
    "refit_time_vec = onp.array(refit_time_vec)\n",
    "\n"
   ]
  },
  {
   "cell_type": "code",
   "execution_count": null,
   "metadata": {},
   "outputs": [],
   "source": []
  },
  {
   "cell_type": "code",
   "execution_count": null,
   "metadata": {},
   "outputs": [],
   "source": []
  },
  {
   "cell_type": "code",
   "execution_count": null,
   "metadata": {},
   "outputs": [],
   "source": []
  },
  {
   "cell_type": "markdown",
   "metadata": {},
   "source": [
    "# plot admixture weights"
   ]
  },
  {
   "cell_type": "code",
   "execution_count": 42,
   "metadata": {
    "scrolled": true
   },
   "outputs": [
    {
     "data": {
      "image/png": "[encoded data removed]",
      "text/plain": [
       "<Figure size 1080x288 with 3 Axes>"
      ]
     },
     "metadata": {
      "needs_background": "light"
     },
     "output_type": "display_data"
    }
   ],
   "source": [
    "fig, axarr = plt.subplots(1, 3, figsize = (15, 4), sharey = False)\n",
    "\n",
    "def _weights_fun(x, k): \n",
    "    admix = get_e_ind_admix_indx(x, n_indx = outlier_indx)\n",
    "    \n",
    "    # make sure it is 2d\n",
    "    admix = admix.reshape(-1, k_approx)\n",
    "    \n",
    "    return admix.mean(0)[k]\n",
    "\n",
    "# in sample number of clusters\n",
    "for i in range(3): \n",
    "    axarr[i].set_title('Cluster {}'.format(i))\n",
    "    \n",
    "    result_loading_utils.plot_post_stat_per_epsilon(lambda x : _weights_fun(x, i),\n",
    "                                                    refit_list,\n",
    "                                                    lr_list,\n",
    "                                                    epsilon_vec, \n",
    "                                                    axarr[i])\n",
    "    \n",
    "    axarr[i].axvline(0, linestyle = '--', color = 'red')\n",
    "    \n",
    "axarr[0].set_ylabel('Expected admixture')\n",
    "axarr[0].legend()\n",
    "fig.tight_layout();"
   ]
  },
  {
   "cell_type": "markdown",
   "metadata": {},
   "source": [
    "# plot inferred structure"
   ]
  },
  {
   "cell_type": "code",
   "execution_count": 43,
   "metadata": {},
   "outputs": [],
   "source": [
    "def get_inferred_admixture_and_plot(vb_free_params, ax): \n",
    "    # get inferred admixture\n",
    "    e_ind_admix = posterior_quantities_lib.get_vb_expectations(\\\n",
    "                                            vb_params_paragami.fold(vb_free_params, free = True), \n",
    "                                            gh_loc,\n",
    "                                            gh_weights)[0]\n",
    "    \n",
    "    # plot admixtures\n",
    "    plotting_utils.plot_top_clusters(onp.array(e_ind_admix)[perm_obs], \n",
    "                                     ax,\n",
    "                                     8, \n",
    "                                     cmap_colors = plt.get_cmap('Set2').colors);\n",
    "\n",
    "    # print labels \n",
    "    plotting_utils.draw_region_separation(labels[perm_labels], ax);\n",
    "    \n",
    "    return e_ind_admix[perm_obs]"
   ]
  },
  {
   "cell_type": "code",
   "execution_count": 44,
   "metadata": {},
   "outputs": [
    {
     "data": {
      "image/png": "[encoded data removed]",
      "text/plain": [
       "<Figure size 1152x324 with 2 Axes>"
      ]
     },
     "metadata": {},
     "output_type": "display_data"
    },
    {
     "data": {
      "image/png": "[encoded data removed]",
      "text/plain": [
       "<Figure size 1152x324 with 2 Axes>"
      ]
     },
     "metadata": {},
     "output_type": "display_data"
    }
   ],
   "source": [
    "which_epsilons = [0, -1]\n",
    "\n",
    "admix_lr_list = []\n",
    "admix_refit_list = []\n",
    "\n",
    "for i in which_epsilons: \n",
    "\n",
    "    fig, ax = plt.subplots(1, 2, figsize = (16, 4.5))\n",
    "    \n",
    "    ax[0].set_title('refit at epsilon = {}'.format(epsilon_vec[i]))\n",
    "    ax[1].set_title('lr at epsilon = {}'.format(epsilon_vec[i]))\n",
    "    \n",
    "    # refit\n",
    "    admix_refit = get_inferred_admixture_and_plot(refit_list[i], ax[0])\n",
    "    \n",
    "    # lr \n",
    "    admix_lr = get_inferred_admixture_and_plot(lr_list[i], ax[1])\n",
    "    \n",
    "    # just remove these labels for now\n",
    "    for j in range(2): \n",
    "        ax[j].set_xticks([]) \n",
    "\n",
    "    fig.tight_layout()\n",
    "    \n",
    "    \n",
    "    admix_refit_list.append(admix_refit)\n",
    "    admix_lr_list.append(admix_lr)"
   ]
  },
  {
   "cell_type": "code",
   "execution_count": null,
   "metadata": {},
   "outputs": [],
   "source": []
  },
  {
   "cell_type": "code",
   "execution_count": null,
   "metadata": {},
   "outputs": [],
   "source": []
  },
  {
   "cell_type": "code",
   "execution_count": null,
   "metadata": {},
   "outputs": [],
   "source": []
  },
  {
   "cell_type": "code",
   "execution_count": null,
   "metadata": {},
   "outputs": [],
   "source": []
  }
 ],
 "metadata": {
  "kernelspec": {
   "display_name": "bnp_sensitivity_public",
   "language": "python",
   "name": "bnp_sensitivity_public"
  },
  "language_info": {
   "codemirror_mode": {
    "name": "ipython",
    "version": 3
   },
   "file_extension": ".py",
   "mimetype": "text/x-python",
   "name": "python",
   "nbconvert_exporter": "python",
   "pygments_lexer": "ipython3",
   "version": "3.9.6"
  }
 },
 "nbformat": 4,
 "nbformat_minor": 4
}
