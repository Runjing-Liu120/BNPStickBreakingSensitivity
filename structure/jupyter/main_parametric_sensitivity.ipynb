{
 "cells": [
  {
   "cell_type": "markdown",
   "metadata": {},
   "source": [
    "Here, we investigate the sensitivity STRUCTURE results to the DP concentration parameter $\\alpha$."
   ]
  },
  {
   "cell_type": "code",
   "execution_count": 1,
   "metadata": {},
   "outputs": [
    {
     "name": "stderr",
     "output_type": "stream",
     "text": [
      "/accounts/grad/runjing_liu/.conda/envs/bnp_sensitivity_public/lib/python3.9/site-packages/jax/lib/xla_bridge.py:130: UserWarning: No GPU/TPU found, falling back to CPU.\n",
      "  warnings.warn('No GPU/TPU found, falling back to CPU.')\n"
     ]
    }
   ],
   "source": [
    "import jax\n",
    "import jax.numpy as np\n",
    "\n",
    "from numpy.polynomial.hermite import hermgauss\n",
    "\n",
    "# structure libraries\n",
    "from structure_vb_lib import structure_model_lib, posterior_quantities_lib, data_utils, plotting_utils\n",
    "import structure_vb_lib.structure_optimization_lib as s_optim_lib\n",
    "\n",
    "# bnp modeling libraries\n",
    "from bnpmodeling import result_loading_utils\n",
    "from bnpmodeling.sensitivity_lib import HyperparameterSensitivityLinearApproximation\n",
    "from bnpmodeling.bnp_optimization_lib import optimize_kl\n",
    "\n",
    "import paragami\n",
    "\n",
    "from copy import deepcopy\n",
    "\n",
    "import time\n",
    "\n",
    "import matplotlib.pyplot as plt\n",
    "%matplotlib inline  "
   ]
  },
  {
   "cell_type": "code",
   "execution_count": 2,
   "metadata": {},
   "outputs": [],
   "source": [
    "import numpy as onp\n",
    "seed = 98765\n",
    "onp.random.seed(seed)"
   ]
  },
  {
   "cell_type": "code",
   "execution_count": null,
   "metadata": {},
   "outputs": [],
   "source": []
  },
  {
   "cell_type": "markdown",
   "metadata": {},
   "source": [
    "# Load data"
   ]
  },
  {
   "cell_type": "code",
   "execution_count": 3,
   "metadata": {},
   "outputs": [
    {
     "name": "stdout",
     "output_type": "stream",
     "text": [
      "loading thrush data from : \n",
      "../data/thrush_data/thrush-data.str\n"
     ]
    }
   ],
   "source": [
    "g_obs, _, labels, _ = data_utils.load_thrush_data()"
   ]
  },
  {
   "cell_type": "code",
   "execution_count": 4,
   "metadata": {},
   "outputs": [
    {
     "name": "stdout",
     "output_type": "stream",
     "text": [
      "(155, 7, 2, 21)\n"
     ]
    }
   ],
   "source": [
    "print(g_obs.shape)"
   ]
  },
  {
   "cell_type": "code",
   "execution_count": 5,
   "metadata": {},
   "outputs": [],
   "source": [
    "n_obs = g_obs.shape[0]\n",
    "n_loci = g_obs.shape[1]\n",
    "n_allele = g_obs.shape[-1]"
   ]
  },
  {
   "cell_type": "code",
   "execution_count": 6,
   "metadata": {},
   "outputs": [
    {
     "data": {
      "text/plain": [
       "array(['Chawia', 'Mbololo', 'Ngangao', 'Yale'], dtype='<U32')"
      ]
     },
     "execution_count": 6,
     "metadata": {},
     "output_type": "execute_result"
    }
   ],
   "source": [
    "onp.unique(labels)"
   ]
  },
  {
   "cell_type": "code",
   "execution_count": null,
   "metadata": {},
   "outputs": [],
   "source": []
  },
  {
   "cell_type": "markdown",
   "metadata": {},
   "source": [
    "# Get prior"
   ]
  },
  {
   "cell_type": "code",
   "execution_count": 7,
   "metadata": {},
   "outputs": [
    {
     "data": {
      "text/plain": [
       "{'dp_prior_alpha': 3.0,\n",
       " 'allele_prior_lambda_vec': DeviceArray([1., 1., 1., 1., 1., 1., 1., 1., 1., 1., 1., 1., 1., 1., 1.,\n",
       "              1., 1., 1., 1., 1., 1.], dtype=float64)}"
      ]
     },
     "execution_count": 7,
     "metadata": {},
     "output_type": "execute_result"
    }
   ],
   "source": [
    "prior_params_dict, prior_params_paragami = \\\n",
    "    structure_model_lib.get_default_prior_params(n_allele)\n",
    "\n",
    "alpha0 = 3.0\n",
    "prior_params_dict['dp_prior_alpha'] = alpha0\n",
    "\n",
    "prior_params_free = prior_params_paragami.flatten(prior_params_dict, free = True)\n",
    "\n",
    "prior_params_dict\n"
   ]
  },
  {
   "cell_type": "code",
   "execution_count": null,
   "metadata": {},
   "outputs": [],
   "source": []
  },
  {
   "cell_type": "markdown",
   "metadata": {},
   "source": [
    "# Get VB params "
   ]
  },
  {
   "cell_type": "code",
   "execution_count": 8,
   "metadata": {},
   "outputs": [],
   "source": [
    "k_approx = 20"
   ]
  },
  {
   "cell_type": "code",
   "execution_count": 9,
   "metadata": {},
   "outputs": [],
   "source": [
    "gh_deg = 8\n",
    "gh_loc, gh_weights = hermgauss(8)"
   ]
  },
  {
   "cell_type": "code",
   "execution_count": 10,
   "metadata": {
    "scrolled": true
   },
   "outputs": [
    {
     "name": "stdout",
     "output_type": "stream",
     "text": [
      "OrderedDict:\n",
      "\t[pop_freq_dirichlet_params] = NumericArrayPattern (20, 7, 21) (lb=0.0, ub=inf)\n",
      "\t[ind_admix_params] = OrderedDict:\n",
      "\t[stick_means] = NumericArrayPattern (155, 19) (lb=-inf, ub=inf)\n",
      "\t[stick_infos] = NumericArrayPattern (155, 19) (lb=0.0001, ub=inf)\n"
     ]
    }
   ],
   "source": [
    "vb_params_dict, vb_params_paragami = \\\n",
    "    structure_model_lib.get_vb_params_paragami_object(n_obs = n_obs,\n",
    "                                                      n_loci = n_loci,\n",
    "                                                      n_allele = n_allele, \n",
    "                                                      k_approx = k_approx, \n",
    "                                                      prng_key = jax.random.PRNGKey(seed))\n",
    "    \n",
    "print(vb_params_paragami)"
   ]
  },
  {
   "cell_type": "code",
   "execution_count": null,
   "metadata": {},
   "outputs": [],
   "source": []
  },
  {
   "cell_type": "markdown",
   "metadata": {},
   "source": [
    "# Initialize"
   ]
  },
  {
   "cell_type": "code",
   "execution_count": 11,
   "metadata": {},
   "outputs": [
    {
     "data": {
      "text/plain": [
       "DeviceArray(21146.64009948, dtype=float64)"
      ]
     },
     "execution_count": 11,
     "metadata": {},
     "output_type": "execute_result"
    }
   ],
   "source": [
    "structure_model_lib.get_kl(g_obs, \n",
    "                           vb_params_dict, \n",
    "                           prior_params_dict, \n",
    "                           gh_loc, \n",
    "                           gh_weights)"
   ]
  },
  {
   "cell_type": "code",
   "execution_count": 12,
   "metadata": {},
   "outputs": [
    {
     "name": "stdout",
     "output_type": "stream",
     "text": [
      "Initialization time: 9.907secs\n"
     ]
    }
   ],
   "source": [
    "t0 = time.time() \n",
    "\n",
    "vb_params_dict = s_optim_lib.initialize_structure(g_obs, \n",
    "                                                  vb_params_dict, \n",
    "                                                  vb_params_paragami,\n",
    "                                                  prior_params_dict, \n",
    "                                                  gh_loc, \n",
    "                                                  gh_weights, \n",
    "                                                  seed = seed)\n",
    "\n",
    "print('Initialization time: {:.03f}secs'.format(time.time() - t0))"
   ]
  },
  {
   "cell_type": "code",
   "execution_count": 13,
   "metadata": {},
   "outputs": [
    {
     "data": {
      "text/plain": [
       "DeviceArray(19627.88409187, dtype=float64)"
      ]
     },
     "execution_count": 13,
     "metadata": {},
     "output_type": "execute_result"
    }
   ],
   "source": [
    "structure_model_lib.get_kl(g_obs, \n",
    "                           vb_params_dict, \n",
    "                           prior_params_dict, \n",
    "                           gh_loc, \n",
    "                           gh_weights)"
   ]
  },
  {
   "cell_type": "code",
   "execution_count": null,
   "metadata": {},
   "outputs": [],
   "source": []
  },
  {
   "cell_type": "markdown",
   "metadata": {},
   "source": [
    "# Optimize"
   ]
  },
  {
   "cell_type": "code",
   "execution_count": 14,
   "metadata": {},
   "outputs": [
    {
     "name": "stdout",
     "output_type": "stream",
     "text": [
      "compiling objective and derivatives ... \n",
      "done. Compile time: 36.372sec\n",
      "Running L-BFGS-B ...\n",
      "L-BFGS-B time: 3.436sec\n",
      "BFGS out:  CONVERGENCE: REL_REDUCTION_OF_F_<=_FACTR*EPSMCH\n",
      "Running trust-ncg ... \n",
      "Newton time: 3.335sec\n",
      "Newton out:  Optimization terminated successfully.\n",
      "done. \n"
     ]
    }
   ],
   "source": [
    "vb_opt_dict, vb_opt, ez_opt, out, init_optim_time = \\\n",
    "    s_optim_lib.optimize_structure(g_obs,\n",
    "                                   vb_params_dict,\n",
    "                                   vb_params_paragami,\n",
    "                                   prior_params_dict, \n",
    "                                   gh_loc, \n",
    "                                   gh_weights)"
   ]
  },
  {
   "cell_type": "code",
   "execution_count": 15,
   "metadata": {},
   "outputs": [
    {
     "data": {
      "text/plain": [
       "6.77109956741333"
      ]
     },
     "execution_count": 15,
     "metadata": {},
     "output_type": "execute_result"
    }
   ],
   "source": [
    "init_optim_time"
   ]
  },
  {
   "cell_type": "code",
   "execution_count": 16,
   "metadata": {},
   "outputs": [
    {
     "data": {
      "text/plain": [
       "array(13533.40950931)"
      ]
     },
     "execution_count": 16,
     "metadata": {},
     "output_type": "execute_result"
    }
   ],
   "source": [
    "out.fun"
   ]
  },
  {
   "cell_type": "code",
   "execution_count": 17,
   "metadata": {},
   "outputs": [],
   "source": [
    "# save the fit for later\n",
    "paragami.save_folded('./fits/structure_initial_fit', \n",
    "                     vb_opt_dict, \n",
    "                     vb_params_paragami, \n",
    "                     final_kl = out.fun, \n",
    "                     alpha0 = alpha0)"
   ]
  },
  {
   "cell_type": "code",
   "execution_count": null,
   "metadata": {},
   "outputs": [],
   "source": []
  },
  {
   "cell_type": "markdown",
   "metadata": {},
   "source": [
    "# Check out the fit"
   ]
  },
  {
   "cell_type": "code",
   "execution_count": 18,
   "metadata": {},
   "outputs": [
    {
     "data": {
      "image/png": "[encoded data removed]",
      "text/plain": [
       "<Figure size 576x324 with 1 Axes>"
      ]
     },
     "metadata": {
      "needs_background": "light"
     },
     "output_type": "display_data"
    }
   ],
   "source": [
    "e_ind_admix = posterior_quantities_lib.get_vb_expectations(vb_opt_dict, gh_loc, gh_weights)[0]\n",
    "\n",
    "# sort everything within populations\n",
    "perm_obs = data_utils.cluster_admix_get_indx_within_labels(onp.array(e_ind_admix),\n",
    "                                                               labels)\n",
    "\n",
    "# now re-order populations: put chawia last\n",
    "_labels = deepcopy(labels)\n",
    "_labels[_labels == 'Chawia'] = 'z'\n",
    "perm_labels = onp.argsort(_labels)\n",
    "perm_obs = perm_obs[perm_labels]\n",
    "\n",
    "# plot admixture\n",
    "fig, ax = plt.subplots(1, 1, figsize = (8, 4.5))\n",
    "\n",
    "plotting_utils.plot_top_clusters(onp.array(e_ind_admix)[perm_obs], \n",
    "                                 ax,\n",
    "                                 8, \n",
    "                                 cmap_colors = plt.get_cmap('Set2').colors);\n",
    "\n",
    "# print labels\n",
    "plotting_utils.draw_region_separation(labels[perm_labels], ax);"
   ]
  },
  {
   "cell_type": "code",
   "execution_count": null,
   "metadata": {},
   "outputs": [],
   "source": []
  },
  {
   "cell_type": "code",
   "execution_count": null,
   "metadata": {},
   "outputs": [],
   "source": []
  },
  {
   "cell_type": "code",
   "execution_count": 19,
   "metadata": {},
   "outputs": [],
   "source": [
    "e_num_loci_per_cluster = posterior_quantities_lib.get_e_num_loci_per_cluster(g_obs, \n",
    "                                                                             vb_opt_dict,\n",
    "                                                                             gh_loc,\n",
    "                                                                             gh_weights)\n",
    "\n",
    "e_num_ind_per_cluster = posterior_quantities_lib.get_e_num_ind_per_cluster(vb_opt_dict, \n",
    "                                                                           gh_loc,\n",
    "                                                                           gh_weights)"
   ]
  },
  {
   "cell_type": "code",
   "execution_count": 20,
   "metadata": {},
   "outputs": [
    {
     "data": {
      "image/png": "[encoded data removed]",
      "text/plain": [
       "<Figure size 576x216 with 2 Axes>"
      ]
     },
     "metadata": {
      "needs_background": "light"
     },
     "output_type": "display_data"
    }
   ],
   "source": [
    "fig, axarr = plt.subplots(1, 2, figsize = (8, 3))\n",
    "\n",
    "result_loading_utils._plot_weights(e_num_loci_per_cluster, \n",
    "                                   axarr[0])\n",
    "\n",
    "result_loading_utils._plot_weights(e_num_ind_per_cluster, \n",
    "                                   axarr[1])\n",
    "\n",
    "\n",
    "axarr[0].set_ylabel('e. num. loci')\n",
    "axarr[1].set_ylabel('e. num. ind.')\n",
    "    \n",
    "fig.tight_layout()"
   ]
  },
  {
   "cell_type": "code",
   "execution_count": null,
   "metadata": {},
   "outputs": [],
   "source": []
  },
  {
   "cell_type": "code",
   "execution_count": null,
   "metadata": {},
   "outputs": [],
   "source": []
  },
  {
   "cell_type": "markdown",
   "metadata": {},
   "source": [
    "# Define sensitivity object"
   ]
  },
  {
   "cell_type": "code",
   "execution_count": 21,
   "metadata": {},
   "outputs": [
    {
     "name": "stdout",
     "output_type": "stream",
     "text": [
      "1.0986122886681098\n"
     ]
    }
   ],
   "source": [
    "# initial prior alpha\n",
    "use_free_alpha = True\n",
    "hyper_param0 = prior_params_paragami['dp_prior_alpha'].flatten(alpha0, \n",
    "                                                              free = use_free_alpha)[0]\n",
    "\n",
    "print(hyper_param0)"
   ]
  },
  {
   "cell_type": "code",
   "execution_count": 22,
   "metadata": {},
   "outputs": [],
   "source": [
    "# set up objective as function of vb params and prior param \n",
    "\n",
    "def objective_fun(vb_params_dict, alpha): \n",
    "    \n",
    "    _prior_params_dict = deepcopy(prior_params_dict)\n",
    "    _prior_params_dict['dp_prior_alpha'] = alpha\n",
    "    \n",
    "    return structure_model_lib.get_kl(g_obs, \n",
    "                          vb_params_dict,\n",
    "                          _prior_params_dict,\n",
    "                          gh_loc, \n",
    "                          gh_weights).squeeze()\n",
    "\n",
    "\n",
    "objective_fun_free = paragami.FlattenFunctionInput(\n",
    "                                original_fun=objective_fun, \n",
    "                                patterns = [vb_params_paragami, prior_params_paragami['dp_prior_alpha']],\n",
    "                                free = [True, use_free_alpha],\n",
    "                                argnums = [0, 1])"
   ]
  },
  {
   "cell_type": "code",
   "execution_count": null,
   "metadata": {},
   "outputs": [],
   "source": []
  },
  {
   "cell_type": "markdown",
   "metadata": {},
   "source": [
    "### The sensitivity object"
   ]
  },
  {
   "cell_type": "code",
   "execution_count": 23,
   "metadata": {},
   "outputs": [
    {
     "name": "stdout",
     "output_type": "stream",
     "text": [
      "Compiling hessian solver ...\n",
      "Hessian solver compile time: 71.5092sec\n",
      "\n",
      "Compiling cross hessian...\n",
      "Cross-hessian compile time: 0.555532sec\n",
      "\n",
      "LR sensitivity time: 0.313342sec\n",
      "\n"
     ]
    }
   ],
   "source": [
    "vb_sens = HyperparameterSensitivityLinearApproximation(objective_fun_free,\n",
    "                                                        vb_opt,\n",
    "                                                        hyper_param0)"
   ]
  },
  {
   "cell_type": "code",
   "execution_count": null,
   "metadata": {},
   "outputs": [],
   "source": []
  },
  {
   "cell_type": "code",
   "execution_count": null,
   "metadata": {},
   "outputs": [],
   "source": []
  },
  {
   "cell_type": "code",
   "execution_count": null,
   "metadata": {},
   "outputs": [],
   "source": []
  },
  {
   "cell_type": "markdown",
   "metadata": {},
   "source": [
    "# Fit for a range of alpha"
   ]
  },
  {
   "cell_type": "markdown",
   "metadata": {},
   "source": [
    "### Define loss as function of free params and alpha\n",
    "and we precompile its derivatives beforehand"
   ]
  },
  {
   "cell_type": "code",
   "execution_count": 24,
   "metadata": {},
   "outputs": [],
   "source": [
    "get_fun = jax.jit(objective_fun_free)\n",
    "\n",
    "get_grad = jax.jit(jax.grad(objective_fun_free, argnums = 0))\n",
    "\n",
    "def _get_hvp(x, hyper_param0, v):\n",
    "    return jax.jvp(jax.grad(objective_fun_free, argnums = 0), (x, hyper_param0), (v, 0.))[1]\n",
    "\n",
    "get_hvp = jax.jit(_get_hvp)"
   ]
  },
  {
   "cell_type": "code",
   "execution_count": 25,
   "metadata": {},
   "outputs": [],
   "source": [
    "# compile ... \n",
    "_ = get_fun(vb_opt, hyper_param0).block_until_ready()\n",
    "_ = get_grad(vb_opt, hyper_param0).block_until_ready()\n",
    "_ = get_hvp(vb_opt, hyper_param0, vb_opt).block_until_ready()"
   ]
  },
  {
   "cell_type": "code",
   "execution_count": 26,
   "metadata": {},
   "outputs": [],
   "source": [
    "def refit_with_alpha(alpha, new_init_dict):\n",
    "    # sets new alpha, returns new vb optimum\n",
    "    \n",
    "    hyper_param0 = prior_params_paragami['dp_prior_alpha'].flatten(alpha, free = use_free_alpha)[0]\n",
    "    \n",
    "    _, vb_opt_pert, _, refit_time = \\\n",
    "        optimize_kl(lambda x : get_fun(x, hyper_param0),\n",
    "                     new_init_dict, \n",
    "                     vb_params_paragami, \n",
    "                     get_grad = lambda x : get_grad(x, hyper_param0),\n",
    "                     get_hvp = lambda x, v: get_hvp(x, hyper_param0, v),\n",
    "                     run_lbfgs = False,\n",
    "                     run_newton = True)                         \n",
    "        \n",
    "    return vb_opt_pert, refit_time"
   ]
  },
  {
   "cell_type": "code",
   "execution_count": 27,
   "metadata": {},
   "outputs": [],
   "source": [
    "# get the two sets of alpha lists, those less than alpha0 \n",
    "# and those greater than alpha0\n",
    "\n",
    "alpha_list1 = np.arange(alpha0, 0, step = -1, dtype = float)\n",
    "alpha_list1 = np.hstack((alpha_list1, np.array([0.5])))\n",
    "alpha_list2 = np.arange(alpha0 + 1, 8, step = 1, dtype = float)"
   ]
  },
  {
   "cell_type": "code",
   "execution_count": 28,
   "metadata": {},
   "outputs": [
    {
     "name": "stdout",
     "output_type": "stream",
     "text": [
      "\n",
      "################\n",
      "re-optimzing with alpha =  3.0\n",
      "################\n",
      "compiling objective and derivatives ... \n",
      "done. Compile time: 4.232sec\n",
      "Running trust-ncg ... \n",
      "Newton time: 0.030sec\n",
      "Newton out:  Optimization terminated successfully.\n",
      "done. \n",
      "\n",
      "################\n",
      "re-optimzing with alpha =  2.0\n",
      "################\n",
      "compiling objective and derivatives ... \n",
      "done. Compile time: 4.165sec\n",
      "Running trust-ncg ... \n",
      "Newton time: 5.219sec\n",
      "Newton out:  Optimization terminated successfully.\n",
      "done. \n",
      "\n",
      "################\n",
      "re-optimzing with alpha =  1.0\n",
      "################\n",
      "compiling objective and derivatives ... \n",
      "done. Compile time: 4.203sec\n",
      "Running trust-ncg ... \n",
      "Newton time: 7.456sec\n",
      "Newton out:  Optimization terminated successfully.\n",
      "done. \n",
      "\n",
      "################\n",
      "re-optimzing with alpha =  0.5\n",
      "################\n",
      "compiling objective and derivatives ... \n",
      "done. Compile time: 4.199sec\n",
      "Running trust-ncg ... \n",
      "Newton time: 8.270sec\n",
      "Newton out:  Optimization terminated successfully.\n",
      "done. \n",
      "\n",
      "################\n",
      "re-optimzing with alpha =  4.0\n",
      "################\n",
      "compiling objective and derivatives ... \n",
      "done. Compile time: 4.169sec\n",
      "Running trust-ncg ... \n",
      "Newton time: 5.641sec\n",
      "Newton out:  Optimization terminated successfully.\n",
      "done. \n",
      "\n",
      "################\n",
      "re-optimzing with alpha =  5.0\n",
      "################\n",
      "compiling objective and derivatives ... \n",
      "done. Compile time: 4.156sec\n",
      "Running trust-ncg ... \n",
      "Newton time: 5.080sec\n",
      "Newton out:  Optimization terminated successfully.\n",
      "done. \n",
      "\n",
      "################\n",
      "re-optimzing with alpha =  6.0\n",
      "################\n",
      "compiling objective and derivatives ... \n",
      "done. Compile time: 4.164sec\n",
      "Running trust-ncg ... \n",
      "Newton time: 4.983sec\n",
      "Newton out:  Optimization terminated successfully.\n",
      "done. \n",
      "\n",
      "################\n",
      "re-optimzing with alpha =  7.0\n",
      "################\n",
      "compiling objective and derivatives ... \n",
      "done. Compile time: 4.156sec\n",
      "Running trust-ncg ... \n",
      "Newton time: 4.343sec\n",
      "Newton out:  Optimization terminated successfully.\n",
      "done. \n"
     ]
    }
   ],
   "source": [
    "refit_list = []\n",
    "refit_time_vec = []\n",
    "\n",
    "new_init_dict = deepcopy(vb_opt_dict)\n",
    "\n",
    "for alpha in alpha_list1: \n",
    "    print('\\n################')\n",
    "    print('re-optimzing with alpha = ', alpha)\n",
    "    print('################')\n",
    "    \n",
    "    refit_free, refit_time = refit_with_alpha(alpha, new_init_dict)\n",
    "    \n",
    "    refit_list.append(refit_free)\n",
    "    refit_time_vec.append(refit_time)\n",
    "    \n",
    "    new_init_dict = vb_params_paragami.fold(refit_free, free = True)\n",
    "\n",
    "# continue refits with second set of alphas\n",
    "new_init_dict = deepcopy(vb_opt_dict)\n",
    "\n",
    "for alpha in alpha_list2: \n",
    "    print('\\n################')\n",
    "    print('re-optimzing with alpha = ', alpha)\n",
    "    print('################')\n",
    "    \n",
    "    refit_free, refit_time = refit_with_alpha(alpha, new_init_dict)\n",
    "    \n",
    "    refit_list.append(refit_free)\n",
    "    refit_time_vec.append(refit_time)\n",
    "    \n",
    "    new_init_dict = vb_params_paragami.fold(refit_free, free = True)\n"
   ]
  },
  {
   "cell_type": "code",
   "execution_count": 29,
   "metadata": {},
   "outputs": [
    {
     "name": "stderr",
     "output_type": "stream",
     "text": [
      "/accounts/grad/runjing_liu/.conda/envs/bnp_sensitivity_public/lib/python3.9/site-packages/jax/numpy/lax_numpy.py:3350: UserWarning: 'kind' argument to argsort is ignored.\n",
      "  warnings.warn(\"'kind' argument to argsort is ignored.\")\n"
     ]
    }
   ],
   "source": [
    "# put everythin in order \n",
    "alpha_list = np.concatenate((alpha_list1, alpha_list2))\n",
    "alpha_perm = onp.argsort(alpha_list)\n",
    "alpha_list = alpha_list[alpha_perm]\n",
    "refit_list = np.array(refit_list)[alpha_perm]\n",
    "refit_time_vec = np.array(refit_time_vec)[alpha_perm]"
   ]
  },
  {
   "cell_type": "code",
   "execution_count": null,
   "metadata": {},
   "outputs": [],
   "source": []
  },
  {
   "cell_type": "markdown",
   "metadata": {},
   "source": [
    "# Get linear response predictions"
   ]
  },
  {
   "cell_type": "code",
   "execution_count": 30,
   "metadata": {},
   "outputs": [],
   "source": [
    "lr_list = []\n",
    "\n",
    "for alpha in alpha_list: \n",
    "    \n",
    "    hyper_param_pert = prior_params_paragami['dp_prior_alpha'].flatten(alpha, free = use_free_alpha)\n",
    "    \n",
    "    # get linear response\n",
    "    lr_free_params = vb_sens.predict_opt_par_from_hyper_par(hyper_param_pert).block_until_ready()\n",
    "    \n",
    "    lr_list.append(lr_free_params)\n"
   ]
  },
  {
   "cell_type": "code",
   "execution_count": null,
   "metadata": {},
   "outputs": [],
   "source": []
  },
  {
   "cell_type": "markdown",
   "metadata": {},
   "source": [
    "# Number of clusters"
   ]
  },
  {
   "cell_type": "code",
   "execution_count": 31,
   "metadata": {},
   "outputs": [],
   "source": [
    "prng_key = jax.random.PRNGKey(223)\n",
    "\n",
    "def get_n_clusters_insample(vb_free, threshold):\n",
    "    \n",
    "    vb_params_dict = vb_params_paragami.fold(vb_free, free = True)\n",
    "    \n",
    "    return posterior_quantities_lib.get_e_num_clusters(g_obs,\n",
    "                                                       vb_params_dict,\n",
    "                                                       gh_loc,\n",
    "                                                       gh_weights,\n",
    "                                                       threshold = threshold,\n",
    "                                                       n_samples = 10000, \n",
    "                                                       prng_key = prng_key)\n"
   ]
  },
  {
   "cell_type": "code",
   "execution_count": 32,
   "metadata": {},
   "outputs": [
    {
     "data": {
      "image/png": "[encoded data removed]",
      "text/plain": [
       "<Figure size 720x288 with 3 Axes>"
      ]
     },
     "metadata": {
      "needs_background": "light"
     },
     "output_type": "display_data"
    }
   ],
   "source": [
    "fig, axarr = plt.subplots(1, 3, figsize = (10, 4))\n",
    "\n",
    "\n",
    "threshold_vec = [0, 20, 40]\n",
    "\n",
    "for i in range(len(threshold_vec)): \n",
    "    \n",
    "    threshold = threshold_vec[i]\n",
    "    \n",
    "    f = lambda x : get_n_clusters_insample(x, threshold)\n",
    "    \n",
    "    result_loading_utils.plot_post_stat_per_epsilon(f, \n",
    "                                                   refit_list,\n",
    "                                                   lr_list,\n",
    "                                                   alpha_list, \n",
    "                                                   axarr[i])\n",
    "    \n",
    "    # set legend and title\n",
    "    axarr[i].legend()\n",
    "    axarr[i].set_title('thresh = {}'.format(threshold))\n",
    "    \n",
    "    # draw line at alpha0\n",
    "    axarr[i].axvline(alpha0, \n",
    "                     color = 'red', \n",
    "                     linestyle = '--')\n",
    "    axarr[i].set_xlabel('alpha')\n",
    "    \n",
    "\n",
    "\n",
    "fig.tight_layout()"
   ]
  },
  {
   "cell_type": "code",
   "execution_count": null,
   "metadata": {},
   "outputs": [],
   "source": []
  },
  {
   "cell_type": "markdown",
   "metadata": {},
   "source": [
    "# Cluster weights"
   ]
  },
  {
   "cell_type": "code",
   "execution_count": 33,
   "metadata": {},
   "outputs": [],
   "source": [
    "def get_cluster_weights(vb_free): \n",
    "    vb_params_dict = vb_params_paragami.fold(vb_free, free = True)\n",
    "    \n",
    "    return posterior_quantities_lib.get_e_num_loci_per_cluster(g_obs, vb_params_dict, gh_loc, gh_weights)\n",
    "#     return posterior_quantities_lib.get_e_num_ind_per_cluster(vb_params_dict, gh_loc, gh_weights)"
   ]
  },
  {
   "cell_type": "code",
   "execution_count": 34,
   "metadata": {},
   "outputs": [],
   "source": [
    "def plot_e_num_obs_trace(): \n",
    "    \n",
    "    # get arrays of mixture weights\n",
    "    refit_array = result_loading_utils.get_post_stat_vec(get_cluster_weights, refit_list)\n",
    "    lr_array = result_loading_utils.get_post_stat_vec(get_cluster_weights, lr_list)\n",
    "    \n",
    "        \n",
    "    fig, ax = plt.subplots(2, 4, figsize = (16, 6), sharex = True) \n",
    "    \n",
    "    for k in range(8): \n",
    "        x0 = k // 4\n",
    "        x1 = k % 4\n",
    "        ax[x0, x1].plot(alpha_list, \n",
    "                       refit_array[:, k], \n",
    "                       '-o',\n",
    "                       color = result_loading_utils.refit_color, \n",
    "                       label = 'refit')\n",
    "        \n",
    "        ax[x0, x1].plot(alpha_list, \n",
    "                       lr_array[:, k], \n",
    "                       '-o',\n",
    "                       color = result_loading_utils.lr_color, \n",
    "                       label = 'lr')\n",
    "        \n",
    "        ax[x0, x1].set_title('k = {}'.format(k))\n",
    "        ax[x0, x1].axvline(alpha0, \n",
    "                           color = 'red', \n",
    "                           linestyle = '--')\n",
    "        \n",
    "        \n",
    "        if k == 0: \n",
    "            ax[x0, x1].legend()\n",
    "            \n",
    "    for k in range(4): \n",
    "        ax[-1, k].set_xlabel('alpha')\n",
    "        \n",
    "    for k in range(2): \n",
    "        ax[k, 0].set_ylabel('E(# loci)')\n",
    "    \n",
    "    fig.tight_layout()\n"
   ]
  },
  {
   "cell_type": "code",
   "execution_count": 35,
   "metadata": {},
   "outputs": [
    {
     "data": {
      "image/png": "[encoded data removed]",
      "text/plain": [
       "<Figure size 1152x432 with 8 Axes>"
      ]
     },
     "metadata": {
      "needs_background": "light"
     },
     "output_type": "display_data"
    }
   ],
   "source": [
    "plot_e_num_obs_trace()"
   ]
  },
  {
   "cell_type": "code",
   "execution_count": null,
   "metadata": {},
   "outputs": [],
   "source": []
  },
  {
   "cell_type": "code",
   "execution_count": null,
   "metadata": {},
   "outputs": [],
   "source": []
  }
 ],
 "metadata": {
  "kernelspec": {
   "display_name": "bnp_sensitivity_public",
   "language": "python",
   "name": "bnp_sensitivity_public"
  },
  "language_info": {
   "codemirror_mode": {
    "name": "ipython",
    "version": 3
   },
   "file_extension": ".py",
   "mimetype": "text/x-python",
   "name": "python",
   "nbconvert_exporter": "python",
   "pygments_lexer": "ipython3",
   "version": "3.9.6"
  }
 },
 "nbformat": 4,
 "nbformat_minor": 4
}
